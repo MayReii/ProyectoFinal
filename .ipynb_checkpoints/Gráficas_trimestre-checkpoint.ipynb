{
 "cells": [
  {
   "cell_type": "code",
   "execution_count": 1,
   "metadata": {},
   "outputs": [],
   "source": [
    "import pandas as pd"
   ]
  },
  {
   "cell_type": "code",
   "execution_count": 2,
   "metadata": {},
   "outputs": [],
   "source": [
    "import numpy as np\n",
    "import matplotlib.pyplot as plt\n",
    "import matplotlib\n",
    "import seaborn as sns"
   ]
  },
  {
   "cell_type": "code",
   "execution_count": 3,
   "metadata": {},
   "outputs": [],
   "source": [
    "import warnings\n",
    "warnings.simplefilter(\"ignore\")"
   ]
  },
  {
   "cell_type": "code",
   "execution_count": 3,
   "metadata": {},
   "outputs": [],
   "source": [
    "actual=pd.read_excel('Datos/mortalidad_2019.xlsx',sheet_name='morta')"
   ]
  },
  {
   "cell_type": "code",
   "execution_count": 4,
   "metadata": {},
   "outputs": [
    {
     "data": {
      "text/html": [
       "<div>\n",
       "<style scoped>\n",
       "    .dataframe tbody tr th:only-of-type {\n",
       "        vertical-align: middle;\n",
       "    }\n",
       "\n",
       "    .dataframe tbody tr th {\n",
       "        vertical-align: top;\n",
       "    }\n",
       "\n",
       "    .dataframe thead th {\n",
       "        text-align: right;\n",
       "    }\n",
       "</style>\n",
       "<table border=\"1\" class=\"dataframe\">\n",
       "  <thead>\n",
       "    <tr style=\"text-align: right;\">\n",
       "      <th></th>\n",
       "      <th>Unnamed: 0</th>\n",
       "      <th>CAUSA</th>\n",
       "      <th>Código (CIE10)</th>\n",
       "      <th>No. Casos</th>\n",
       "      <th>Tasas %</th>\n",
       "    </tr>\n",
       "  </thead>\n",
       "  <tbody>\n",
       "    <tr>\n",
       "      <th>0</th>\n",
       "      <td>1</td>\n",
       "      <td>ENFERMEDADES ISQUEMICAS DEL CORAZON</td>\n",
       "      <td>(I20-I25.9)</td>\n",
       "      <td>27</td>\n",
       "      <td>32.14</td>\n",
       "    </tr>\n",
       "    <tr>\n",
       "      <th>1</th>\n",
       "      <td>2</td>\n",
       "      <td>MALFORMACIONES CONGENITAS DEL SISTEMA CIRCULAT...</td>\n",
       "      <td>(Q20-Q28)</td>\n",
       "      <td>20</td>\n",
       "      <td>23.81</td>\n",
       "    </tr>\n",
       "    <tr>\n",
       "      <th>2</th>\n",
       "      <td>3</td>\n",
       "      <td>ENFERMEDAES REUMATICAS DEL CORAZON</td>\n",
       "      <td>(I00-I09.9)</td>\n",
       "      <td>12</td>\n",
       "      <td>14.29</td>\n",
       "    </tr>\n",
       "    <tr>\n",
       "      <th>3</th>\n",
       "      <td>4</td>\n",
       "      <td>CARDIOMIOPATIAS MIOCARDITIS</td>\n",
       "      <td>(I40-I43.8)</td>\n",
       "      <td>6</td>\n",
       "      <td>7.14</td>\n",
       "    </tr>\n",
       "    <tr>\n",
       "      <th>4</th>\n",
       "      <td>5</td>\n",
       "      <td>VALVULOPATIAS NO REUMATICAS</td>\n",
       "      <td>(I34-I39.8)</td>\n",
       "      <td>5</td>\n",
       "      <td>5.95</td>\n",
       "    </tr>\n",
       "    <tr>\n",
       "      <th>5</th>\n",
       "      <td>6</td>\n",
       "      <td>ENFERMEDADES CARDIOPULMONARES</td>\n",
       "      <td>(I26-I28.9)</td>\n",
       "      <td>4</td>\n",
       "      <td>4.76</td>\n",
       "    </tr>\n",
       "    <tr>\n",
       "      <th>6</th>\n",
       "      <td>7</td>\n",
       "      <td>ENFERMEDADES DEL SISTEMA GENITOURINARIO</td>\n",
       "      <td>(N00-N99)</td>\n",
       "      <td>3</td>\n",
       "      <td>3.57</td>\n",
       "    </tr>\n",
       "    <tr>\n",
       "      <th>7</th>\n",
       "      <td>8</td>\n",
       "      <td>ENFERMEDADES CEREBROVASCULARES</td>\n",
       "      <td>(I60-I69.8)</td>\n",
       "      <td>3</td>\n",
       "      <td>3.57</td>\n",
       "    </tr>\n",
       "    <tr>\n",
       "      <th>8</th>\n",
       "      <td>9</td>\n",
       "      <td>ENFERMEDADES DE ARTERIAS, VENAS Y VASOS CAPILARES</td>\n",
       "      <td>(I71-I89.9)</td>\n",
       "      <td>2</td>\n",
       "      <td>2.38</td>\n",
       "    </tr>\n",
       "    <tr>\n",
       "      <th>9</th>\n",
       "      <td>10</td>\n",
       "      <td>TUMORES (NEOPLASIAS)</td>\n",
       "      <td>(C00-D48)</td>\n",
       "      <td>1</td>\n",
       "      <td>1.19</td>\n",
       "    </tr>\n",
       "    <tr>\n",
       "      <th>10</th>\n",
       "      <td>11</td>\n",
       "      <td>OTRAS CAUSAS</td>\n",
       "      <td>(-)</td>\n",
       "      <td>1</td>\n",
       "      <td>1.19</td>\n",
       "    </tr>\n",
       "  </tbody>\n",
       "</table>\n",
       "</div>"
      ],
      "text/plain": [
       "    Unnamed: 0                                              CAUSA  \\\n",
       "0            1                ENFERMEDADES ISQUEMICAS DEL CORAZON   \n",
       "1            2  MALFORMACIONES CONGENITAS DEL SISTEMA CIRCULAT...   \n",
       "2            3                 ENFERMEDAES REUMATICAS DEL CORAZON   \n",
       "3            4                        CARDIOMIOPATIAS MIOCARDITIS   \n",
       "4            5                        VALVULOPATIAS NO REUMATICAS   \n",
       "5            6                      ENFERMEDADES CARDIOPULMONARES   \n",
       "6            7            ENFERMEDADES DEL SISTEMA GENITOURINARIO   \n",
       "7            8                     ENFERMEDADES CEREBROVASCULARES   \n",
       "8            9  ENFERMEDADES DE ARTERIAS, VENAS Y VASOS CAPILARES   \n",
       "9           10                               TUMORES (NEOPLASIAS)   \n",
       "10          11                                       OTRAS CAUSAS   \n",
       "\n",
       "   Código (CIE10)  No. Casos  Tasas %  \n",
       "0     (I20-I25.9)         27    32.14  \n",
       "1       (Q20-Q28)         20    23.81  \n",
       "2     (I00-I09.9)         12    14.29  \n",
       "3     (I40-I43.8)          6     7.14  \n",
       "4     (I34-I39.8)          5     5.95  \n",
       "5     (I26-I28.9)          4     4.76  \n",
       "6       (N00-N99)          3     3.57  \n",
       "7     (I60-I69.8)          3     3.57  \n",
       "8     (I71-I89.9)          2     2.38  \n",
       "9       (C00-D48)          1     1.19  \n",
       "10            (-)          1     1.19  "
      ]
     },
     "execution_count": 4,
     "metadata": {},
     "output_type": "execute_result"
    }
   ],
   "source": [
    "actual"
   ]
  },
  {
   "cell_type": "code",
   "execution_count": 5,
   "metadata": {},
   "outputs": [],
   "source": [
    "actual.drop(['Código (CIE10)','Unnamed: 0'],axis=1,inplace=True)"
   ]
  },
  {
   "cell_type": "code",
   "execution_count": 6,
   "metadata": {},
   "outputs": [
    {
     "data": {
      "text/html": [
       "<div>\n",
       "<style scoped>\n",
       "    .dataframe tbody tr th:only-of-type {\n",
       "        vertical-align: middle;\n",
       "    }\n",
       "\n",
       "    .dataframe tbody tr th {\n",
       "        vertical-align: top;\n",
       "    }\n",
       "\n",
       "    .dataframe thead th {\n",
       "        text-align: right;\n",
       "    }\n",
       "</style>\n",
       "<table border=\"1\" class=\"dataframe\">\n",
       "  <thead>\n",
       "    <tr style=\"text-align: right;\">\n",
       "      <th></th>\n",
       "      <th>CAUSA</th>\n",
       "      <th>No. Casos</th>\n",
       "      <th>Tasas %</th>\n",
       "    </tr>\n",
       "  </thead>\n",
       "  <tbody>\n",
       "    <tr>\n",
       "      <th>0</th>\n",
       "      <td>ENFERMEDADES ISQUEMICAS DEL CORAZON</td>\n",
       "      <td>27</td>\n",
       "      <td>32.14</td>\n",
       "    </tr>\n",
       "    <tr>\n",
       "      <th>1</th>\n",
       "      <td>MALFORMACIONES CONGENITAS DEL SISTEMA CIRCULAT...</td>\n",
       "      <td>20</td>\n",
       "      <td>23.81</td>\n",
       "    </tr>\n",
       "    <tr>\n",
       "      <th>2</th>\n",
       "      <td>ENFERMEDAES REUMATICAS DEL CORAZON</td>\n",
       "      <td>12</td>\n",
       "      <td>14.29</td>\n",
       "    </tr>\n",
       "    <tr>\n",
       "      <th>3</th>\n",
       "      <td>CARDIOMIOPATIAS MIOCARDITIS</td>\n",
       "      <td>6</td>\n",
       "      <td>7.14</td>\n",
       "    </tr>\n",
       "    <tr>\n",
       "      <th>4</th>\n",
       "      <td>VALVULOPATIAS NO REUMATICAS</td>\n",
       "      <td>5</td>\n",
       "      <td>5.95</td>\n",
       "    </tr>\n",
       "    <tr>\n",
       "      <th>5</th>\n",
       "      <td>ENFERMEDADES CARDIOPULMONARES</td>\n",
       "      <td>4</td>\n",
       "      <td>4.76</td>\n",
       "    </tr>\n",
       "    <tr>\n",
       "      <th>6</th>\n",
       "      <td>ENFERMEDADES DEL SISTEMA GENITOURINARIO</td>\n",
       "      <td>3</td>\n",
       "      <td>3.57</td>\n",
       "    </tr>\n",
       "    <tr>\n",
       "      <th>7</th>\n",
       "      <td>ENFERMEDADES CEREBROVASCULARES</td>\n",
       "      <td>3</td>\n",
       "      <td>3.57</td>\n",
       "    </tr>\n",
       "    <tr>\n",
       "      <th>8</th>\n",
       "      <td>ENFERMEDADES DE ARTERIAS, VENAS Y VASOS CAPILARES</td>\n",
       "      <td>2</td>\n",
       "      <td>2.38</td>\n",
       "    </tr>\n",
       "    <tr>\n",
       "      <th>9</th>\n",
       "      <td>TUMORES (NEOPLASIAS)</td>\n",
       "      <td>1</td>\n",
       "      <td>1.19</td>\n",
       "    </tr>\n",
       "    <tr>\n",
       "      <th>10</th>\n",
       "      <td>OTRAS CAUSAS</td>\n",
       "      <td>1</td>\n",
       "      <td>1.19</td>\n",
       "    </tr>\n",
       "  </tbody>\n",
       "</table>\n",
       "</div>"
      ],
      "text/plain": [
       "                                                CAUSA  No. Casos  Tasas %\n",
       "0                 ENFERMEDADES ISQUEMICAS DEL CORAZON         27    32.14\n",
       "1   MALFORMACIONES CONGENITAS DEL SISTEMA CIRCULAT...         20    23.81\n",
       "2                  ENFERMEDAES REUMATICAS DEL CORAZON         12    14.29\n",
       "3                         CARDIOMIOPATIAS MIOCARDITIS          6     7.14\n",
       "4                         VALVULOPATIAS NO REUMATICAS          5     5.95\n",
       "5                       ENFERMEDADES CARDIOPULMONARES          4     4.76\n",
       "6             ENFERMEDADES DEL SISTEMA GENITOURINARIO          3     3.57\n",
       "7                      ENFERMEDADES CEREBROVASCULARES          3     3.57\n",
       "8   ENFERMEDADES DE ARTERIAS, VENAS Y VASOS CAPILARES          2     2.38\n",
       "9                                TUMORES (NEOPLASIAS)          1     1.19\n",
       "10                                       OTRAS CAUSAS          1     1.19"
      ]
     },
     "execution_count": 6,
     "metadata": {},
     "output_type": "execute_result"
    }
   ],
   "source": [
    "actual"
   ]
  },
  {
   "cell_type": "code",
   "execution_count": 7,
   "metadata": {},
   "outputs": [
    {
     "data": {
      "image/png": "[encoded data removed]",
      "text/plain": [
       "<Figure size 1080x576 with 1 Axes>"
      ]
     },
     "metadata": {
      "needs_background": "light"
     },
     "output_type": "display_data"
    }
   ],
   "source": [
    "plt.figure(figsize=(15,8))\n",
    "ax = sns.barplot(x='No. Casos',y='CAUSA',data=actual)\n",
    "plt.savefig('Images/Causa_casos.png', bbox_inches=\"tight\")"
   ]
  },
  {
   "cell_type": "code",
   "execution_count": 9,
   "metadata": {},
   "outputs": [
    {
     "data": {
      "image/png": "[encoded data removed]",
      "text/plain": [
       "<Figure size 1080x576 with 1 Axes>"
      ]
     },
     "metadata": {
      "needs_background": "light"
     },
     "output_type": "display_data"
    }
   ],
   "source": [
    "plt.figure(figsize=(15,8))\n",
    "ax = sns.barplot(x='Tasas %',y='CAUSA',data=actual)\n",
    "plt.savefig('Images/Tasas_causa.png', bbox_inches=\"tight\")"
   ]
  },
  {
   "cell_type": "markdown",
   "metadata": {},
   "source": [
    "A partir de aquí se utilizarán datos de la Organización Mundial de la Salud, obtenidos de su página (who.int)\n",
    "Particularmente, se utilizarán proyecciones comparando el año 2016 con el 2030."
   ]
  },
  {
   "cell_type": "code",
   "execution_count": 3,
   "metadata": {},
   "outputs": [],
   "source": [
    "ghe_16=pd.read_excel('Datos/GHE.xlsx',sheet_name='2016')"
   ]
  },
  {
   "cell_type": "code",
   "execution_count": 4,
   "metadata": {},
   "outputs": [
    {
     "data": {
      "text/html": [
       "<div>\n",
       "<style scoped>\n",
       "    .dataframe tbody tr th:only-of-type {\n",
       "        vertical-align: middle;\n",
       "    }\n",
       "\n",
       "    .dataframe tbody tr th {\n",
       "        vertical-align: top;\n",
       "    }\n",
       "\n",
       "    .dataframe thead th {\n",
       "        text-align: right;\n",
       "    }\n",
       "</style>\n",
       "<table border=\"1\" class=\"dataframe\">\n",
       "  <thead>\n",
       "    <tr style=\"text-align: right;\">\n",
       "      <th></th>\n",
       "      <th>Rank</th>\n",
       "      <th>GHE code</th>\n",
       "      <th>Cause</th>\n",
       "      <th>Deaths (000s)</th>\n",
       "      <th>% deaths</th>\n",
       "      <th>Deaths per 100,000 population</th>\n",
       "    </tr>\n",
       "  </thead>\n",
       "  <tbody>\n",
       "    <tr>\n",
       "      <th>0</th>\n",
       "      <td>1</td>\n",
       "      <td>113</td>\n",
       "      <td>Ischaemic heart disease</td>\n",
       "      <td>9433.224017</td>\n",
       "      <td>16.586354</td>\n",
       "      <td>126.412136</td>\n",
       "    </tr>\n",
       "    <tr>\n",
       "      <th>1</th>\n",
       "      <td>2</td>\n",
       "      <td>114</td>\n",
       "      <td>Stroke</td>\n",
       "      <td>5780.641377</td>\n",
       "      <td>10.164050</td>\n",
       "      <td>77.464844</td>\n",
       "    </tr>\n",
       "    <tr>\n",
       "      <th>2</th>\n",
       "      <td>3</td>\n",
       "      <td>118</td>\n",
       "      <td>Chronic obstructive pulmonary disease</td>\n",
       "      <td>3041.445989</td>\n",
       "      <td>5.347747</td>\n",
       "      <td>40.757612</td>\n",
       "    </tr>\n",
       "    <tr>\n",
       "      <th>3</th>\n",
       "      <td>4</td>\n",
       "      <td>39</td>\n",
       "      <td>Lower respiratory infections</td>\n",
       "      <td>2957.135894</td>\n",
       "      <td>5.199506</td>\n",
       "      <td>39.627795</td>\n",
       "    </tr>\n",
       "    <tr>\n",
       "      <th>4</th>\n",
       "      <td>5</td>\n",
       "      <td>95</td>\n",
       "      <td>Alzheimer disease and other dementias</td>\n",
       "      <td>1991.708287</td>\n",
       "      <td>3.502003</td>\n",
       "      <td>26.690355</td>\n",
       "    </tr>\n",
       "    <tr>\n",
       "      <th>5</th>\n",
       "      <td>6</td>\n",
       "      <td>68</td>\n",
       "      <td>Trachea, bronchus, lung cancers</td>\n",
       "      <td>1707.739944</td>\n",
       "      <td>3.002704</td>\n",
       "      <td>22.884971</td>\n",
       "    </tr>\n",
       "    <tr>\n",
       "      <th>6</th>\n",
       "      <td>7</td>\n",
       "      <td>80</td>\n",
       "      <td>Diabetes mellitus</td>\n",
       "      <td>1598.525976</td>\n",
       "      <td>2.810674</td>\n",
       "      <td>21.421423</td>\n",
       "    </tr>\n",
       "    <tr>\n",
       "      <th>7</th>\n",
       "      <td>8</td>\n",
       "      <td>153</td>\n",
       "      <td>Road injury</td>\n",
       "      <td>1402.301800</td>\n",
       "      <td>2.465655</td>\n",
       "      <td>18.791875</td>\n",
       "    </tr>\n",
       "    <tr>\n",
       "      <th>8</th>\n",
       "      <td>9</td>\n",
       "      <td>11</td>\n",
       "      <td>Diarrhoeal diseases</td>\n",
       "      <td>1382.706771</td>\n",
       "      <td>2.431201</td>\n",
       "      <td>18.529287</td>\n",
       "    </tr>\n",
       "    <tr>\n",
       "      <th>9</th>\n",
       "      <td>10</td>\n",
       "      <td>3</td>\n",
       "      <td>Tuberculosis</td>\n",
       "      <td>1292.900655</td>\n",
       "      <td>2.273296</td>\n",
       "      <td>17.325819</td>\n",
       "    </tr>\n",
       "    <tr>\n",
       "      <th>10</th>\n",
       "      <td>11</td>\n",
       "      <td>123</td>\n",
       "      <td>Cirrhosis of the liver</td>\n",
       "      <td>1254.071409</td>\n",
       "      <td>2.205023</td>\n",
       "      <td>16.805479</td>\n",
       "    </tr>\n",
       "    <tr>\n",
       "      <th>11</th>\n",
       "      <td>12</td>\n",
       "      <td>127</td>\n",
       "      <td>Kidney diseases</td>\n",
       "      <td>1179.838706</td>\n",
       "      <td>2.074500</td>\n",
       "      <td>15.810706</td>\n",
       "    </tr>\n",
       "    <tr>\n",
       "      <th>12</th>\n",
       "      <td>13</td>\n",
       "      <td>50</td>\n",
       "      <td>Preterm birth complications</td>\n",
       "      <td>1013.330358</td>\n",
       "      <td>1.781730</td>\n",
       "      <td>13.579372</td>\n",
       "    </tr>\n",
       "    <tr>\n",
       "      <th>13</th>\n",
       "      <td>14</td>\n",
       "      <td>10</td>\n",
       "      <td>HIV/AIDS</td>\n",
       "      <td>1011.992211</td>\n",
       "      <td>1.779377</td>\n",
       "      <td>13.561440</td>\n",
       "    </tr>\n",
       "    <tr>\n",
       "      <th>14</th>\n",
       "      <td>15</td>\n",
       "      <td>112</td>\n",
       "      <td>Hypertensive heart disease</td>\n",
       "      <td>897.679862</td>\n",
       "      <td>1.578382</td>\n",
       "      <td>12.029570</td>\n",
       "    </tr>\n",
       "    <tr>\n",
       "      <th>15</th>\n",
       "      <td>16</td>\n",
       "      <td>66</td>\n",
       "      <td>Liver cancer</td>\n",
       "      <td>829.599502</td>\n",
       "      <td>1.458677</td>\n",
       "      <td>11.117243</td>\n",
       "    </tr>\n",
       "    <tr>\n",
       "      <th>16</th>\n",
       "      <td>17</td>\n",
       "      <td>65</td>\n",
       "      <td>Colon and rectum cancers</td>\n",
       "      <td>794.495337</td>\n",
       "      <td>1.396954</td>\n",
       "      <td>10.646822</td>\n",
       "    </tr>\n",
       "    <tr>\n",
       "      <th>17</th>\n",
       "      <td>18</td>\n",
       "      <td>161</td>\n",
       "      <td>Self-harm</td>\n",
       "      <td>793.307029</td>\n",
       "      <td>1.394865</td>\n",
       "      <td>10.630897</td>\n",
       "    </tr>\n",
       "    <tr>\n",
       "      <th>18</th>\n",
       "      <td>19</td>\n",
       "      <td>64</td>\n",
       "      <td>Stomach cancer</td>\n",
       "      <td>760.171741</td>\n",
       "      <td>1.336603</td>\n",
       "      <td>10.186860</td>\n",
       "    </tr>\n",
       "    <tr>\n",
       "      <th>19</th>\n",
       "      <td>20</td>\n",
       "      <td>51</td>\n",
       "      <td>Birth asphyxia and birth trauma</td>\n",
       "      <td>678.638303</td>\n",
       "      <td>1.193244</td>\n",
       "      <td>9.094252</td>\n",
       "    </tr>\n",
       "  </tbody>\n",
       "</table>\n",
       "</div>"
      ],
      "text/plain": [
       "    Rank  GHE code                                  Cause  Deaths (000s)  \\\n",
       "0      1       113                Ischaemic heart disease    9433.224017   \n",
       "1      2       114                                 Stroke    5780.641377   \n",
       "2      3       118  Chronic obstructive pulmonary disease    3041.445989   \n",
       "3      4        39           Lower respiratory infections    2957.135894   \n",
       "4      5        95  Alzheimer disease and other dementias    1991.708287   \n",
       "5      6        68        Trachea, bronchus, lung cancers    1707.739944   \n",
       "6      7        80                      Diabetes mellitus    1598.525976   \n",
       "7      8       153                            Road injury    1402.301800   \n",
       "8      9        11                    Diarrhoeal diseases    1382.706771   \n",
       "9     10         3                           Tuberculosis    1292.900655   \n",
       "10    11       123                 Cirrhosis of the liver    1254.071409   \n",
       "11    12       127                        Kidney diseases    1179.838706   \n",
       "12    13        50            Preterm birth complications    1013.330358   \n",
       "13    14        10                               HIV/AIDS    1011.992211   \n",
       "14    15       112             Hypertensive heart disease     897.679862   \n",
       "15    16        66                           Liver cancer     829.599502   \n",
       "16    17        65               Colon and rectum cancers     794.495337   \n",
       "17    18       161                              Self-harm     793.307029   \n",
       "18    19        64                         Stomach cancer     760.171741   \n",
       "19    20        51        Birth asphyxia and birth trauma     678.638303   \n",
       "\n",
       "     % deaths  Deaths per 100,000 population  \n",
       "0   16.586354                     126.412136  \n",
       "1   10.164050                      77.464844  \n",
       "2    5.347747                      40.757612  \n",
       "3    5.199506                      39.627795  \n",
       "4    3.502003                      26.690355  \n",
       "5    3.002704                      22.884971  \n",
       "6    2.810674                      21.421423  \n",
       "7    2.465655                      18.791875  \n",
       "8    2.431201                      18.529287  \n",
       "9    2.273296                      17.325819  \n",
       "10   2.205023                      16.805479  \n",
       "11   2.074500                      15.810706  \n",
       "12   1.781730                      13.579372  \n",
       "13   1.779377                      13.561440  \n",
       "14   1.578382                      12.029570  \n",
       "15   1.458677                      11.117243  \n",
       "16   1.396954                      10.646822  \n",
       "17   1.394865                      10.630897  \n",
       "18   1.336603                      10.186860  \n",
       "19   1.193244                       9.094252  "
      ]
     },
     "execution_count": 4,
     "metadata": {},
     "output_type": "execute_result"
    }
   ],
   "source": [
    "ghe_16"
   ]
  },
  {
   "cell_type": "code",
   "execution_count": 5,
   "metadata": {},
   "outputs": [
    {
     "data": {
      "text/html": [
       "<div>\n",
       "<style scoped>\n",
       "    .dataframe tbody tr th:only-of-type {\n",
       "        vertical-align: middle;\n",
       "    }\n",
       "\n",
       "    .dataframe tbody tr th {\n",
       "        vertical-align: top;\n",
       "    }\n",
       "\n",
       "    .dataframe thead th {\n",
       "        text-align: right;\n",
       "    }\n",
       "</style>\n",
       "<table border=\"1\" class=\"dataframe\">\n",
       "  <thead>\n",
       "    <tr style=\"text-align: right;\">\n",
       "      <th></th>\n",
       "      <th>Rank</th>\n",
       "      <th>Cause</th>\n",
       "      <th>Deaths (000s)</th>\n",
       "      <th>% deaths</th>\n",
       "      <th>Deaths per 100,000 population</th>\n",
       "    </tr>\n",
       "  </thead>\n",
       "  <tbody>\n",
       "    <tr>\n",
       "      <th>0</th>\n",
       "      <td>1</td>\n",
       "      <td>Ischaemic heart disease</td>\n",
       "      <td>9433.224017</td>\n",
       "      <td>16.586354</td>\n",
       "      <td>126.412136</td>\n",
       "    </tr>\n",
       "    <tr>\n",
       "      <th>1</th>\n",
       "      <td>2</td>\n",
       "      <td>Stroke</td>\n",
       "      <td>5780.641377</td>\n",
       "      <td>10.164050</td>\n",
       "      <td>77.464844</td>\n",
       "    </tr>\n",
       "    <tr>\n",
       "      <th>2</th>\n",
       "      <td>3</td>\n",
       "      <td>Chronic obstructive pulmonary disease</td>\n",
       "      <td>3041.445989</td>\n",
       "      <td>5.347747</td>\n",
       "      <td>40.757612</td>\n",
       "    </tr>\n",
       "    <tr>\n",
       "      <th>3</th>\n",
       "      <td>4</td>\n",
       "      <td>Lower respiratory infections</td>\n",
       "      <td>2957.135894</td>\n",
       "      <td>5.199506</td>\n",
       "      <td>39.627795</td>\n",
       "    </tr>\n",
       "    <tr>\n",
       "      <th>4</th>\n",
       "      <td>5</td>\n",
       "      <td>Alzheimer disease and other dementias</td>\n",
       "      <td>1991.708287</td>\n",
       "      <td>3.502003</td>\n",
       "      <td>26.690355</td>\n",
       "    </tr>\n",
       "  </tbody>\n",
       "</table>\n",
       "</div>"
      ],
      "text/plain": [
       "   Rank                                  Cause  Deaths (000s)   % deaths  \\\n",
       "0     1                Ischaemic heart disease    9433.224017  16.586354   \n",
       "1     2                                 Stroke    5780.641377  10.164050   \n",
       "2     3  Chronic obstructive pulmonary disease    3041.445989   5.347747   \n",
       "3     4           Lower respiratory infections    2957.135894   5.199506   \n",
       "4     5  Alzheimer disease and other dementias    1991.708287   3.502003   \n",
       "\n",
       "   Deaths per 100,000 population  \n",
       "0                     126.412136  \n",
       "1                      77.464844  \n",
       "2                      40.757612  \n",
       "3                      39.627795  \n",
       "4                      26.690355  "
      ]
     },
     "execution_count": 5,
     "metadata": {},
     "output_type": "execute_result"
    }
   ],
   "source": [
    "ghe_16.drop('GHE code',axis=1,inplace=True)\n",
    "ghe_16.head()"
   ]
  },
  {
   "cell_type": "code",
   "execution_count": 39,
   "metadata": {},
   "outputs": [
    {
     "data": {
      "text/html": [
       "<div>\n",
       "<style scoped>\n",
       "    .dataframe tbody tr th:only-of-type {\n",
       "        vertical-align: middle;\n",
       "    }\n",
       "\n",
       "    .dataframe tbody tr th {\n",
       "        vertical-align: top;\n",
       "    }\n",
       "\n",
       "    .dataframe thead th {\n",
       "        text-align: right;\n",
       "    }\n",
       "</style>\n",
       "<table border=\"1\" class=\"dataframe\">\n",
       "  <thead>\n",
       "    <tr style=\"text-align: right;\">\n",
       "      <th></th>\n",
       "      <th>Rank</th>\n",
       "      <th>GHE code</th>\n",
       "      <th>Cause</th>\n",
       "      <th>Deaths (000s)</th>\n",
       "      <th>% deaths</th>\n",
       "      <th>Deaths per 100,000 population</th>\n",
       "    </tr>\n",
       "  </thead>\n",
       "  <tbody>\n",
       "    <tr>\n",
       "      <th>0</th>\n",
       "      <td>1</td>\n",
       "      <td>113</td>\n",
       "      <td>Ischaemic heart disease</td>\n",
       "      <td>11740.366515</td>\n",
       "      <td>17.234969</td>\n",
       "      <td>137.380675</td>\n",
       "    </tr>\n",
       "    <tr>\n",
       "      <th>1</th>\n",
       "      <td>2</td>\n",
       "      <td>114</td>\n",
       "      <td>Stroke</td>\n",
       "      <td>7180.222388</td>\n",
       "      <td>10.540634</td>\n",
       "      <td>84.019847</td>\n",
       "    </tr>\n",
       "    <tr>\n",
       "      <th>2</th>\n",
       "      <td>3</td>\n",
       "      <td>118</td>\n",
       "      <td>Chronic obstructive pulmonary disease</td>\n",
       "      <td>3864.148403</td>\n",
       "      <td>5.672606</td>\n",
       "      <td>45.216588</td>\n",
       "    </tr>\n",
       "    <tr>\n",
       "      <th>3</th>\n",
       "      <td>4</td>\n",
       "      <td>95</td>\n",
       "      <td>Alzheimer disease and other dementias</td>\n",
       "      <td>3281.069304</td>\n",
       "      <td>4.816641</td>\n",
       "      <td>38.393650</td>\n",
       "    </tr>\n",
       "    <tr>\n",
       "      <th>4</th>\n",
       "      <td>5</td>\n",
       "      <td>39</td>\n",
       "      <td>Lower respiratory infections</td>\n",
       "      <td>3221.258261</td>\n",
       "      <td>4.728838</td>\n",
       "      <td>37.693767</td>\n",
       "    </tr>\n",
       "    <tr>\n",
       "      <th>5</th>\n",
       "      <td>6</td>\n",
       "      <td>80</td>\n",
       "      <td>Diabetes mellitus</td>\n",
       "      <td>2412.635556</td>\n",
       "      <td>3.541772</td>\n",
       "      <td>28.231615</td>\n",
       "    </tr>\n",
       "    <tr>\n",
       "      <th>6</th>\n",
       "      <td>7</td>\n",
       "      <td>68</td>\n",
       "      <td>Trachea, bronchus, lung cancers</td>\n",
       "      <td>2018.521223</td>\n",
       "      <td>2.963208</td>\n",
       "      <td>23.619860</td>\n",
       "    </tr>\n",
       "    <tr>\n",
       "      <th>7</th>\n",
       "      <td>8</td>\n",
       "      <td>127</td>\n",
       "      <td>Kidney diseases</td>\n",
       "      <td>1626.126483</td>\n",
       "      <td>2.387169</td>\n",
       "      <td>19.028227</td>\n",
       "    </tr>\n",
       "    <tr>\n",
       "      <th>8</th>\n",
       "      <td>9</td>\n",
       "      <td>123</td>\n",
       "      <td>Cirrhosis of the liver</td>\n",
       "      <td>1501.969804</td>\n",
       "      <td>2.204906</td>\n",
       "      <td>17.575399</td>\n",
       "    </tr>\n",
       "    <tr>\n",
       "      <th>9</th>\n",
       "      <td>10</td>\n",
       "      <td>153</td>\n",
       "      <td>Road injury</td>\n",
       "      <td>1498.652706</td>\n",
       "      <td>2.200036</td>\n",
       "      <td>17.536584</td>\n",
       "    </tr>\n",
       "    <tr>\n",
       "      <th>10</th>\n",
       "      <td>11</td>\n",
       "      <td>11</td>\n",
       "      <td>Diarrhoeal diseases</td>\n",
       "      <td>1236.180548</td>\n",
       "      <td>1.814725</td>\n",
       "      <td>14.465248</td>\n",
       "    </tr>\n",
       "    <tr>\n",
       "      <th>11</th>\n",
       "      <td>12</td>\n",
       "      <td>112</td>\n",
       "      <td>Hypertensive heart disease</td>\n",
       "      <td>1203.414826</td>\n",
       "      <td>1.766624</td>\n",
       "      <td>14.081838</td>\n",
       "    </tr>\n",
       "    <tr>\n",
       "      <th>12</th>\n",
       "      <td>13</td>\n",
       "      <td>3</td>\n",
       "      <td>Tuberculosis</td>\n",
       "      <td>1137.041559</td>\n",
       "      <td>1.669188</td>\n",
       "      <td>13.305167</td>\n",
       "    </tr>\n",
       "    <tr>\n",
       "      <th>13</th>\n",
       "      <td>14</td>\n",
       "      <td>66</td>\n",
       "      <td>Liver cancer</td>\n",
       "      <td>1111.788358</td>\n",
       "      <td>1.632116</td>\n",
       "      <td>13.009665</td>\n",
       "    </tr>\n",
       "    <tr>\n",
       "      <th>14</th>\n",
       "      <td>15</td>\n",
       "      <td>65</td>\n",
       "      <td>Colon and rectum cancers</td>\n",
       "      <td>1059.089572</td>\n",
       "      <td>1.554753</td>\n",
       "      <td>12.393007</td>\n",
       "    </tr>\n",
       "    <tr>\n",
       "      <th>15</th>\n",
       "      <td>16</td>\n",
       "      <td>64</td>\n",
       "      <td>Stomach cancer</td>\n",
       "      <td>962.623010</td>\n",
       "      <td>1.413140</td>\n",
       "      <td>11.264197</td>\n",
       "    </tr>\n",
       "    <tr>\n",
       "      <th>16</th>\n",
       "      <td>17</td>\n",
       "      <td>155</td>\n",
       "      <td>Falls</td>\n",
       "      <td>914.368146</td>\n",
       "      <td>1.342301</td>\n",
       "      <td>10.699539</td>\n",
       "    </tr>\n",
       "    <tr>\n",
       "      <th>17</th>\n",
       "      <td>18</td>\n",
       "      <td>161</td>\n",
       "      <td>Self-harm</td>\n",
       "      <td>896.206706</td>\n",
       "      <td>1.315640</td>\n",
       "      <td>10.487022</td>\n",
       "    </tr>\n",
       "    <tr>\n",
       "      <th>18</th>\n",
       "      <td>19</td>\n",
       "      <td>70</td>\n",
       "      <td>Breast cancer</td>\n",
       "      <td>807.244167</td>\n",
       "      <td>1.185042</td>\n",
       "      <td>9.446021</td>\n",
       "    </tr>\n",
       "    <tr>\n",
       "      <th>19</th>\n",
       "      <td>20</td>\n",
       "      <td>50</td>\n",
       "      <td>Preterm birth complications</td>\n",
       "      <td>755.752817</td>\n",
       "      <td>1.109452</td>\n",
       "      <td>8.843492</td>\n",
       "    </tr>\n",
       "  </tbody>\n",
       "</table>\n",
       "</div>"
      ],
      "text/plain": [
       "    Rank  GHE code                                  Cause  Deaths (000s)  \\\n",
       "0      1       113                Ischaemic heart disease   11740.366515   \n",
       "1      2       114                                 Stroke    7180.222388   \n",
       "2      3       118  Chronic obstructive pulmonary disease    3864.148403   \n",
       "3      4        95  Alzheimer disease and other dementias    3281.069304   \n",
       "4      5        39           Lower respiratory infections    3221.258261   \n",
       "5      6        80                      Diabetes mellitus    2412.635556   \n",
       "6      7        68        Trachea, bronchus, lung cancers    2018.521223   \n",
       "7      8       127                        Kidney diseases    1626.126483   \n",
       "8      9       123                 Cirrhosis of the liver    1501.969804   \n",
       "9     10       153                            Road injury    1498.652706   \n",
       "10    11        11                    Diarrhoeal diseases    1236.180548   \n",
       "11    12       112             Hypertensive heart disease    1203.414826   \n",
       "12    13         3                           Tuberculosis    1137.041559   \n",
       "13    14        66                           Liver cancer    1111.788358   \n",
       "14    15        65               Colon and rectum cancers    1059.089572   \n",
       "15    16        64                         Stomach cancer     962.623010   \n",
       "16    17       155                                  Falls     914.368146   \n",
       "17    18       161                              Self-harm     896.206706   \n",
       "18    19        70                          Breast cancer     807.244167   \n",
       "19    20        50            Preterm birth complications     755.752817   \n",
       "\n",
       "     % deaths  Deaths per 100,000 population  \n",
       "0   17.234969                     137.380675  \n",
       "1   10.540634                      84.019847  \n",
       "2    5.672606                      45.216588  \n",
       "3    4.816641                      38.393650  \n",
       "4    4.728838                      37.693767  \n",
       "5    3.541772                      28.231615  \n",
       "6    2.963208                      23.619860  \n",
       "7    2.387169                      19.028227  \n",
       "8    2.204906                      17.575399  \n",
       "9    2.200036                      17.536584  \n",
       "10   1.814725                      14.465248  \n",
       "11   1.766624                      14.081838  \n",
       "12   1.669188                      13.305167  \n",
       "13   1.632116                      13.009665  \n",
       "14   1.554753                      12.393007  \n",
       "15   1.413140                      11.264197  \n",
       "16   1.342301                      10.699539  \n",
       "17   1.315640                      10.487022  \n",
       "18   1.185042                       9.446021  \n",
       "19   1.109452                       8.843492  "
      ]
     },
     "execution_count": 39,
     "metadata": {},
     "output_type": "execute_result"
    }
   ],
   "source": [
    "ghe_30=pd.read_excel('Datos/GHE.xlsx',sheet_name='2030')\n",
    "ghe_30"
   ]
  },
  {
   "cell_type": "code",
   "execution_count": 40,
   "metadata": {},
   "outputs": [
    {
     "data": {
      "text/html": [
       "<div>\n",
       "<style scoped>\n",
       "    .dataframe tbody tr th:only-of-type {\n",
       "        vertical-align: middle;\n",
       "    }\n",
       "\n",
       "    .dataframe tbody tr th {\n",
       "        vertical-align: top;\n",
       "    }\n",
       "\n",
       "    .dataframe thead th {\n",
       "        text-align: right;\n",
       "    }\n",
       "</style>\n",
       "<table border=\"1\" class=\"dataframe\">\n",
       "  <thead>\n",
       "    <tr style=\"text-align: right;\">\n",
       "      <th></th>\n",
       "      <th>Rank</th>\n",
       "      <th>Cause</th>\n",
       "      <th>Deaths (000s)</th>\n",
       "      <th>% deaths</th>\n",
       "      <th>Deaths per 100,000 population</th>\n",
       "    </tr>\n",
       "  </thead>\n",
       "  <tbody>\n",
       "    <tr>\n",
       "      <th>0</th>\n",
       "      <td>1</td>\n",
       "      <td>Ischaemic heart disease</td>\n",
       "      <td>11740.366515</td>\n",
       "      <td>17.234969</td>\n",
       "      <td>137.380675</td>\n",
       "    </tr>\n",
       "    <tr>\n",
       "      <th>1</th>\n",
       "      <td>2</td>\n",
       "      <td>Stroke</td>\n",
       "      <td>7180.222388</td>\n",
       "      <td>10.540634</td>\n",
       "      <td>84.019847</td>\n",
       "    </tr>\n",
       "    <tr>\n",
       "      <th>2</th>\n",
       "      <td>3</td>\n",
       "      <td>Chronic obstructive pulmonary disease</td>\n",
       "      <td>3864.148403</td>\n",
       "      <td>5.672606</td>\n",
       "      <td>45.216588</td>\n",
       "    </tr>\n",
       "    <tr>\n",
       "      <th>3</th>\n",
       "      <td>4</td>\n",
       "      <td>Alzheimer disease and other dementias</td>\n",
       "      <td>3281.069304</td>\n",
       "      <td>4.816641</td>\n",
       "      <td>38.393650</td>\n",
       "    </tr>\n",
       "    <tr>\n",
       "      <th>4</th>\n",
       "      <td>5</td>\n",
       "      <td>Lower respiratory infections</td>\n",
       "      <td>3221.258261</td>\n",
       "      <td>4.728838</td>\n",
       "      <td>37.693767</td>\n",
       "    </tr>\n",
       "  </tbody>\n",
       "</table>\n",
       "</div>"
      ],
      "text/plain": [
       "   Rank                                  Cause  Deaths (000s)   % deaths  \\\n",
       "0     1                Ischaemic heart disease   11740.366515  17.234969   \n",
       "1     2                                 Stroke    7180.222388  10.540634   \n",
       "2     3  Chronic obstructive pulmonary disease    3864.148403   5.672606   \n",
       "3     4  Alzheimer disease and other dementias    3281.069304   4.816641   \n",
       "4     5           Lower respiratory infections    3221.258261   4.728838   \n",
       "\n",
       "   Deaths per 100,000 population  \n",
       "0                     137.380675  \n",
       "1                      84.019847  \n",
       "2                      45.216588  \n",
       "3                      38.393650  \n",
       "4                      37.693767  "
      ]
     },
     "execution_count": 40,
     "metadata": {},
     "output_type": "execute_result"
    }
   ],
   "source": [
    "ghe_30.drop('GHE code',axis=1,inplace=True)\n",
    "ghe_30.head()"
   ]
  },
  {
   "cell_type": "code",
   "execution_count": 8,
   "metadata": {},
   "outputs": [],
   "source": [
    "def clean_num(x):\n",
    "    redondeo=round(x,2)\n",
    "    return redondeo"
   ]
  },
  {
   "cell_type": "code",
   "execution_count": 9,
   "metadata": {},
   "outputs": [
    {
     "data": {
      "text/html": [
       "<div>\n",
       "<style scoped>\n",
       "    .dataframe tbody tr th:only-of-type {\n",
       "        vertical-align: middle;\n",
       "    }\n",
       "\n",
       "    .dataframe tbody tr th {\n",
       "        vertical-align: top;\n",
       "    }\n",
       "\n",
       "    .dataframe thead th {\n",
       "        text-align: right;\n",
       "    }\n",
       "</style>\n",
       "<table border=\"1\" class=\"dataframe\">\n",
       "  <thead>\n",
       "    <tr style=\"text-align: right;\">\n",
       "      <th></th>\n",
       "      <th>Rank</th>\n",
       "      <th>Cause</th>\n",
       "      <th>Deaths (000s)</th>\n",
       "      <th>% deaths</th>\n",
       "      <th>Deaths per 100,000 population</th>\n",
       "    </tr>\n",
       "  </thead>\n",
       "  <tbody>\n",
       "    <tr>\n",
       "      <th>0</th>\n",
       "      <td>1</td>\n",
       "      <td>Ischaemic heart disease</td>\n",
       "      <td>9433.22</td>\n",
       "      <td>16.59</td>\n",
       "      <td>126.41</td>\n",
       "    </tr>\n",
       "    <tr>\n",
       "      <th>1</th>\n",
       "      <td>2</td>\n",
       "      <td>Stroke</td>\n",
       "      <td>5780.64</td>\n",
       "      <td>10.16</td>\n",
       "      <td>77.46</td>\n",
       "    </tr>\n",
       "    <tr>\n",
       "      <th>2</th>\n",
       "      <td>3</td>\n",
       "      <td>Chronic obstructive pulmonary disease</td>\n",
       "      <td>3041.45</td>\n",
       "      <td>5.35</td>\n",
       "      <td>40.76</td>\n",
       "    </tr>\n",
       "    <tr>\n",
       "      <th>3</th>\n",
       "      <td>4</td>\n",
       "      <td>Lower respiratory infections</td>\n",
       "      <td>2957.14</td>\n",
       "      <td>5.20</td>\n",
       "      <td>39.63</td>\n",
       "    </tr>\n",
       "    <tr>\n",
       "      <th>4</th>\n",
       "      <td>5</td>\n",
       "      <td>Alzheimer disease and other dementias</td>\n",
       "      <td>1991.71</td>\n",
       "      <td>3.50</td>\n",
       "      <td>26.69</td>\n",
       "    </tr>\n",
       "  </tbody>\n",
       "</table>\n",
       "</div>"
      ],
      "text/plain": [
       "   Rank                                  Cause  Deaths (000s)  % deaths  \\\n",
       "0     1                Ischaemic heart disease        9433.22     16.59   \n",
       "1     2                                 Stroke        5780.64     10.16   \n",
       "2     3  Chronic obstructive pulmonary disease        3041.45      5.35   \n",
       "3     4           Lower respiratory infections        2957.14      5.20   \n",
       "4     5  Alzheimer disease and other dementias        1991.71      3.50   \n",
       "\n",
       "   Deaths per 100,000 population  \n",
       "0                         126.41  \n",
       "1                          77.46  \n",
       "2                          40.76  \n",
       "3                          39.63  \n",
       "4                          26.69  "
      ]
     },
     "execution_count": 9,
     "metadata": {},
     "output_type": "execute_result"
    }
   ],
   "source": [
    "ghe_16[['Deaths (000s)','% deaths','Deaths per 100,000 population']]=ghe_16[['Deaths (000s)','% deaths','Deaths per 100,000 population']].apply(clean_num)\n",
    "ghe_16.head()"
   ]
  },
  {
   "cell_type": "code",
   "execution_count": 10,
   "metadata": {},
   "outputs": [
    {
     "data": {
      "text/plain": [
       "array(['Ischaemic heart disease', 'Stroke',\n",
       "       'Chronic obstructive pulmonary disease',\n",
       "       'Lower respiratory infections',\n",
       "       'Alzheimer disease and other dementias',\n",
       "       'Trachea, bronchus, lung cancers', 'Diabetes mellitus',\n",
       "       'Road injury', 'Diarrhoeal diseases', 'Tuberculosis'], dtype=object)"
      ]
     },
     "execution_count": 10,
     "metadata": {},
     "output_type": "execute_result"
    }
   ],
   "source": [
    "ghe_16=ghe_16.head(10)\n",
    "ghe_16.Cause.unique()"
   ]
  },
  {
   "cell_type": "code",
   "execution_count": 21,
   "metadata": {},
   "outputs": [],
   "source": [
    "causas={'Ischaemic heart disease':'Enfermedad isquémica del corazón',\n",
    "        'Stroke':'Accidente cerebrovascular',\n",
    "        'Chronic obstructive pulmonary disease':'Enfermedad pulmonar obstructiva crónica',\n",
    "        'Lower respiratory infections':'Infecciones respiratorias de vías bajas',\n",
    "        'Alzheimer disease and other dementias':'Enfermedad de Alzheimer y otras demencias',\n",
    "        'Trachea, bronchus, lung cancers':'Cancer de tráquea, bronquios, pulmones',\n",
    "        'Road injury':'Heridas por accidentes',\n",
    "        'Diarrhoeal diseases':'Diarrea',\n",
    "        'Kidney diseases':'Enfermedades del riñón',\n",
    "        'Cirrhosis of the liver':'Cirrosis hepática'}"
   ]
  },
  {
   "cell_type": "code",
   "execution_count": 22,
   "metadata": {},
   "outputs": [],
   "source": [
    "def causa_español(s):\n",
    "    if s in causas.keys():\n",
    "        return causas[s]\n",
    "    else:\n",
    "        return s"
   ]
  },
  {
   "cell_type": "code",
   "execution_count": 14,
   "metadata": {},
   "outputs": [
    {
     "name": "stderr",
     "output_type": "stream",
     "text": [
      "/opt/anaconda3/lib/python3.7/site-packages/ipykernel_launcher.py:1: SettingWithCopyWarning: \n",
      "A value is trying to be set on a copy of a slice from a DataFrame.\n",
      "Try using .loc[row_indexer,col_indexer] = value instead\n",
      "\n",
      "See the caveats in the documentation: https://pandas.pydata.org/pandas-docs/stable/user_guide/indexing.html#returning-a-view-versus-a-copy\n",
      "  \"\"\"Entry point for launching an IPython kernel.\n"
     ]
    },
    {
     "data": {
      "text/html": [
       "<div>\n",
       "<style scoped>\n",
       "    .dataframe tbody tr th:only-of-type {\n",
       "        vertical-align: middle;\n",
       "    }\n",
       "\n",
       "    .dataframe tbody tr th {\n",
       "        vertical-align: top;\n",
       "    }\n",
       "\n",
       "    .dataframe thead th {\n",
       "        text-align: right;\n",
       "    }\n",
       "</style>\n",
       "<table border=\"1\" class=\"dataframe\">\n",
       "  <thead>\n",
       "    <tr style=\"text-align: right;\">\n",
       "      <th></th>\n",
       "      <th>Rank</th>\n",
       "      <th>Cause</th>\n",
       "      <th>Deaths (000s)</th>\n",
       "      <th>% deaths</th>\n",
       "      <th>Deaths per 100,000 population</th>\n",
       "    </tr>\n",
       "  </thead>\n",
       "  <tbody>\n",
       "    <tr>\n",
       "      <th>0</th>\n",
       "      <td>1</td>\n",
       "      <td>Enfermedad isquémica del corazón</td>\n",
       "      <td>9433.22</td>\n",
       "      <td>16.59</td>\n",
       "      <td>126.41</td>\n",
       "    </tr>\n",
       "    <tr>\n",
       "      <th>1</th>\n",
       "      <td>2</td>\n",
       "      <td>Accidente cerebrovascular</td>\n",
       "      <td>5780.64</td>\n",
       "      <td>10.16</td>\n",
       "      <td>77.46</td>\n",
       "    </tr>\n",
       "    <tr>\n",
       "      <th>2</th>\n",
       "      <td>3</td>\n",
       "      <td>Enfermedad pulmonar obstructiva crónica</td>\n",
       "      <td>3041.45</td>\n",
       "      <td>5.35</td>\n",
       "      <td>40.76</td>\n",
       "    </tr>\n",
       "    <tr>\n",
       "      <th>3</th>\n",
       "      <td>4</td>\n",
       "      <td>Infecciones respiratorias de vías bajas</td>\n",
       "      <td>2957.14</td>\n",
       "      <td>5.20</td>\n",
       "      <td>39.63</td>\n",
       "    </tr>\n",
       "    <tr>\n",
       "      <th>4</th>\n",
       "      <td>5</td>\n",
       "      <td>Enfermedad de Alzheimer y otras demencias</td>\n",
       "      <td>1991.71</td>\n",
       "      <td>3.50</td>\n",
       "      <td>26.69</td>\n",
       "    </tr>\n",
       "    <tr>\n",
       "      <th>5</th>\n",
       "      <td>6</td>\n",
       "      <td>Cancer de tráquea, bronquios, pulmones</td>\n",
       "      <td>1707.74</td>\n",
       "      <td>3.00</td>\n",
       "      <td>22.88</td>\n",
       "    </tr>\n",
       "    <tr>\n",
       "      <th>6</th>\n",
       "      <td>7</td>\n",
       "      <td>Diabetes mellitus</td>\n",
       "      <td>1598.53</td>\n",
       "      <td>2.81</td>\n",
       "      <td>21.42</td>\n",
       "    </tr>\n",
       "    <tr>\n",
       "      <th>7</th>\n",
       "      <td>8</td>\n",
       "      <td>Heridas por accidentes</td>\n",
       "      <td>1402.30</td>\n",
       "      <td>2.47</td>\n",
       "      <td>18.79</td>\n",
       "    </tr>\n",
       "    <tr>\n",
       "      <th>8</th>\n",
       "      <td>9</td>\n",
       "      <td>Diarrea</td>\n",
       "      <td>1382.71</td>\n",
       "      <td>2.43</td>\n",
       "      <td>18.53</td>\n",
       "    </tr>\n",
       "    <tr>\n",
       "      <th>9</th>\n",
       "      <td>10</td>\n",
       "      <td>Tuberculosis</td>\n",
       "      <td>1292.90</td>\n",
       "      <td>2.27</td>\n",
       "      <td>17.33</td>\n",
       "    </tr>\n",
       "  </tbody>\n",
       "</table>\n",
       "</div>"
      ],
      "text/plain": [
       "   Rank                                      Cause  Deaths (000s)  % deaths  \\\n",
       "0     1           Enfermedad isquémica del corazón        9433.22     16.59   \n",
       "1     2                  Accidente cerebrovascular        5780.64     10.16   \n",
       "2     3    Enfermedad pulmonar obstructiva crónica        3041.45      5.35   \n",
       "3     4    Infecciones respiratorias de vías bajas        2957.14      5.20   \n",
       "4     5  Enfermedad de Alzheimer y otras demencias        1991.71      3.50   \n",
       "5     6     Cancer de tráquea, bronquios, pulmones        1707.74      3.00   \n",
       "6     7                          Diabetes mellitus        1598.53      2.81   \n",
       "7     8                     Heridas por accidentes        1402.30      2.47   \n",
       "8     9                                    Diarrea        1382.71      2.43   \n",
       "9    10                               Tuberculosis        1292.90      2.27   \n",
       "\n",
       "   Deaths per 100,000 population  \n",
       "0                         126.41  \n",
       "1                          77.46  \n",
       "2                          40.76  \n",
       "3                          39.63  \n",
       "4                          26.69  \n",
       "5                          22.88  \n",
       "6                          21.42  \n",
       "7                          18.79  \n",
       "8                          18.53  \n",
       "9                          17.33  "
      ]
     },
     "execution_count": 14,
     "metadata": {},
     "output_type": "execute_result"
    }
   ],
   "source": [
    "ghe_16['Cause']=ghe_16['Cause'].apply(causa_español)\n",
    "ghe_16"
   ]
  },
  {
   "cell_type": "code",
   "execution_count": 41,
   "metadata": {},
   "outputs": [
    {
     "data": {
      "text/html": [
       "<div>\n",
       "<style scoped>\n",
       "    .dataframe tbody tr th:only-of-type {\n",
       "        vertical-align: middle;\n",
       "    }\n",
       "\n",
       "    .dataframe tbody tr th {\n",
       "        vertical-align: top;\n",
       "    }\n",
       "\n",
       "    .dataframe thead th {\n",
       "        text-align: right;\n",
       "    }\n",
       "</style>\n",
       "<table border=\"1\" class=\"dataframe\">\n",
       "  <thead>\n",
       "    <tr style=\"text-align: right;\">\n",
       "      <th></th>\n",
       "      <th>Rank</th>\n",
       "      <th>Cause</th>\n",
       "      <th>Deaths (000s)</th>\n",
       "      <th>% deaths</th>\n",
       "      <th>Deaths per 100,000 population</th>\n",
       "    </tr>\n",
       "  </thead>\n",
       "  <tbody>\n",
       "    <tr>\n",
       "      <th>0</th>\n",
       "      <td>1</td>\n",
       "      <td>Ischaemic heart disease</td>\n",
       "      <td>11740.366515</td>\n",
       "      <td>17.234969</td>\n",
       "      <td>137.380675</td>\n",
       "    </tr>\n",
       "    <tr>\n",
       "      <th>1</th>\n",
       "      <td>2</td>\n",
       "      <td>Stroke</td>\n",
       "      <td>7180.222388</td>\n",
       "      <td>10.540634</td>\n",
       "      <td>84.019847</td>\n",
       "    </tr>\n",
       "    <tr>\n",
       "      <th>2</th>\n",
       "      <td>3</td>\n",
       "      <td>Chronic obstructive pulmonary disease</td>\n",
       "      <td>3864.148403</td>\n",
       "      <td>5.672606</td>\n",
       "      <td>45.216588</td>\n",
       "    </tr>\n",
       "    <tr>\n",
       "      <th>3</th>\n",
       "      <td>4</td>\n",
       "      <td>Alzheimer disease and other dementias</td>\n",
       "      <td>3281.069304</td>\n",
       "      <td>4.816641</td>\n",
       "      <td>38.393650</td>\n",
       "    </tr>\n",
       "    <tr>\n",
       "      <th>4</th>\n",
       "      <td>5</td>\n",
       "      <td>Lower respiratory infections</td>\n",
       "      <td>3221.258261</td>\n",
       "      <td>4.728838</td>\n",
       "      <td>37.693767</td>\n",
       "    </tr>\n",
       "    <tr>\n",
       "      <th>5</th>\n",
       "      <td>6</td>\n",
       "      <td>Diabetes mellitus</td>\n",
       "      <td>2412.635556</td>\n",
       "      <td>3.541772</td>\n",
       "      <td>28.231615</td>\n",
       "    </tr>\n",
       "    <tr>\n",
       "      <th>6</th>\n",
       "      <td>7</td>\n",
       "      <td>Trachea, bronchus, lung cancers</td>\n",
       "      <td>2018.521223</td>\n",
       "      <td>2.963208</td>\n",
       "      <td>23.619860</td>\n",
       "    </tr>\n",
       "    <tr>\n",
       "      <th>7</th>\n",
       "      <td>8</td>\n",
       "      <td>Kidney diseases</td>\n",
       "      <td>1626.126483</td>\n",
       "      <td>2.387169</td>\n",
       "      <td>19.028227</td>\n",
       "    </tr>\n",
       "    <tr>\n",
       "      <th>8</th>\n",
       "      <td>9</td>\n",
       "      <td>Cirrhosis of the liver</td>\n",
       "      <td>1501.969804</td>\n",
       "      <td>2.204906</td>\n",
       "      <td>17.575399</td>\n",
       "    </tr>\n",
       "    <tr>\n",
       "      <th>9</th>\n",
       "      <td>10</td>\n",
       "      <td>Road injury</td>\n",
       "      <td>1498.652706</td>\n",
       "      <td>2.200036</td>\n",
       "      <td>17.536584</td>\n",
       "    </tr>\n",
       "  </tbody>\n",
       "</table>\n",
       "</div>"
      ],
      "text/plain": [
       "   Rank                                  Cause  Deaths (000s)   % deaths  \\\n",
       "0     1                Ischaemic heart disease   11740.366515  17.234969   \n",
       "1     2                                 Stroke    7180.222388  10.540634   \n",
       "2     3  Chronic obstructive pulmonary disease    3864.148403   5.672606   \n",
       "3     4  Alzheimer disease and other dementias    3281.069304   4.816641   \n",
       "4     5           Lower respiratory infections    3221.258261   4.728838   \n",
       "5     6                      Diabetes mellitus    2412.635556   3.541772   \n",
       "6     7        Trachea, bronchus, lung cancers    2018.521223   2.963208   \n",
       "7     8                        Kidney diseases    1626.126483   2.387169   \n",
       "8     9                 Cirrhosis of the liver    1501.969804   2.204906   \n",
       "9    10                            Road injury    1498.652706   2.200036   \n",
       "\n",
       "   Deaths per 100,000 population  \n",
       "0                     137.380675  \n",
       "1                      84.019847  \n",
       "2                      45.216588  \n",
       "3                      38.393650  \n",
       "4                      37.693767  \n",
       "5                      28.231615  \n",
       "6                      23.619860  \n",
       "7                      19.028227  \n",
       "8                      17.575399  \n",
       "9                      17.536584  "
      ]
     },
     "execution_count": 41,
     "metadata": {},
     "output_type": "execute_result"
    }
   ],
   "source": [
    "ghe_30=ghe_30.head(10)\n",
    "ghe_30"
   ]
  },
  {
   "cell_type": "code",
   "execution_count": 42,
   "metadata": {},
   "outputs": [
    {
     "data": {
      "text/html": [
       "<div>\n",
       "<style scoped>\n",
       "    .dataframe tbody tr th:only-of-type {\n",
       "        vertical-align: middle;\n",
       "    }\n",
       "\n",
       "    .dataframe tbody tr th {\n",
       "        vertical-align: top;\n",
       "    }\n",
       "\n",
       "    .dataframe thead th {\n",
       "        text-align: right;\n",
       "    }\n",
       "</style>\n",
       "<table border=\"1\" class=\"dataframe\">\n",
       "  <thead>\n",
       "    <tr style=\"text-align: right;\">\n",
       "      <th></th>\n",
       "      <th>Rank</th>\n",
       "      <th>Cause</th>\n",
       "      <th>Deaths (000s)</th>\n",
       "      <th>% deaths</th>\n",
       "      <th>Deaths per 100,000 population</th>\n",
       "    </tr>\n",
       "  </thead>\n",
       "  <tbody>\n",
       "    <tr>\n",
       "      <th>0</th>\n",
       "      <td>1</td>\n",
       "      <td>Ischaemic heart disease</td>\n",
       "      <td>11740.37</td>\n",
       "      <td>17.23</td>\n",
       "      <td>137.38</td>\n",
       "    </tr>\n",
       "    <tr>\n",
       "      <th>1</th>\n",
       "      <td>2</td>\n",
       "      <td>Stroke</td>\n",
       "      <td>7180.22</td>\n",
       "      <td>10.54</td>\n",
       "      <td>84.02</td>\n",
       "    </tr>\n",
       "    <tr>\n",
       "      <th>2</th>\n",
       "      <td>3</td>\n",
       "      <td>Chronic obstructive pulmonary disease</td>\n",
       "      <td>3864.15</td>\n",
       "      <td>5.67</td>\n",
       "      <td>45.22</td>\n",
       "    </tr>\n",
       "    <tr>\n",
       "      <th>3</th>\n",
       "      <td>4</td>\n",
       "      <td>Alzheimer disease and other dementias</td>\n",
       "      <td>3281.07</td>\n",
       "      <td>4.82</td>\n",
       "      <td>38.39</td>\n",
       "    </tr>\n",
       "    <tr>\n",
       "      <th>4</th>\n",
       "      <td>5</td>\n",
       "      <td>Lower respiratory infections</td>\n",
       "      <td>3221.26</td>\n",
       "      <td>4.73</td>\n",
       "      <td>37.69</td>\n",
       "    </tr>\n",
       "  </tbody>\n",
       "</table>\n",
       "</div>"
      ],
      "text/plain": [
       "   Rank                                  Cause  Deaths (000s)  % deaths  \\\n",
       "0     1                Ischaemic heart disease       11740.37     17.23   \n",
       "1     2                                 Stroke        7180.22     10.54   \n",
       "2     3  Chronic obstructive pulmonary disease        3864.15      5.67   \n",
       "3     4  Alzheimer disease and other dementias        3281.07      4.82   \n",
       "4     5           Lower respiratory infections        3221.26      4.73   \n",
       "\n",
       "   Deaths per 100,000 population  \n",
       "0                         137.38  \n",
       "1                          84.02  \n",
       "2                          45.22  \n",
       "3                          38.39  \n",
       "4                          37.69  "
      ]
     },
     "execution_count": 42,
     "metadata": {},
     "output_type": "execute_result"
    }
   ],
   "source": [
    "ghe_30[['Deaths (000s)','% deaths','Deaths per 100,000 population']]=ghe_30[['Deaths (000s)','% deaths','Deaths per 100,000 population']].apply(clean_num)\n",
    "ghe_30.head()"
   ]
  },
  {
   "cell_type": "code",
   "execution_count": 43,
   "metadata": {},
   "outputs": [
    {
     "data": {
      "text/plain": [
       "array(['Ischaemic heart disease', 'Stroke',\n",
       "       'Chronic obstructive pulmonary disease',\n",
       "       'Alzheimer disease and other dementias',\n",
       "       'Lower respiratory infections', 'Diabetes mellitus',\n",
       "       'Trachea, bronchus, lung cancers', 'Kidney diseases',\n",
       "       'Cirrhosis of the liver', 'Road injury'], dtype=object)"
      ]
     },
     "execution_count": 43,
     "metadata": {},
     "output_type": "execute_result"
    }
   ],
   "source": [
    "ghe_30.Cause.unique()"
   ]
  },
  {
   "cell_type": "code",
   "execution_count": 44,
   "metadata": {},
   "outputs": [
    {
     "data": {
      "text/html": [
       "<div>\n",
       "<style scoped>\n",
       "    .dataframe tbody tr th:only-of-type {\n",
       "        vertical-align: middle;\n",
       "    }\n",
       "\n",
       "    .dataframe tbody tr th {\n",
       "        vertical-align: top;\n",
       "    }\n",
       "\n",
       "    .dataframe thead th {\n",
       "        text-align: right;\n",
       "    }\n",
       "</style>\n",
       "<table border=\"1\" class=\"dataframe\">\n",
       "  <thead>\n",
       "    <tr style=\"text-align: right;\">\n",
       "      <th></th>\n",
       "      <th>Rank</th>\n",
       "      <th>Cause</th>\n",
       "      <th>Deaths (000s)</th>\n",
       "      <th>% deaths</th>\n",
       "      <th>Deaths per 100,000 population</th>\n",
       "    </tr>\n",
       "  </thead>\n",
       "  <tbody>\n",
       "    <tr>\n",
       "      <th>0</th>\n",
       "      <td>1</td>\n",
       "      <td>Enfermedad isquémica del corazón</td>\n",
       "      <td>11740.37</td>\n",
       "      <td>17.23</td>\n",
       "      <td>137.38</td>\n",
       "    </tr>\n",
       "    <tr>\n",
       "      <th>1</th>\n",
       "      <td>2</td>\n",
       "      <td>Accidente cerebrovascular</td>\n",
       "      <td>7180.22</td>\n",
       "      <td>10.54</td>\n",
       "      <td>84.02</td>\n",
       "    </tr>\n",
       "    <tr>\n",
       "      <th>2</th>\n",
       "      <td>3</td>\n",
       "      <td>Enfermedad pulmonar obstructiva crónica</td>\n",
       "      <td>3864.15</td>\n",
       "      <td>5.67</td>\n",
       "      <td>45.22</td>\n",
       "    </tr>\n",
       "    <tr>\n",
       "      <th>3</th>\n",
       "      <td>4</td>\n",
       "      <td>Enfermedad de Alzheimer y otras demencias</td>\n",
       "      <td>3281.07</td>\n",
       "      <td>4.82</td>\n",
       "      <td>38.39</td>\n",
       "    </tr>\n",
       "    <tr>\n",
       "      <th>4</th>\n",
       "      <td>5</td>\n",
       "      <td>Infecciones respiratorias de vías bajas</td>\n",
       "      <td>3221.26</td>\n",
       "      <td>4.73</td>\n",
       "      <td>37.69</td>\n",
       "    </tr>\n",
       "    <tr>\n",
       "      <th>5</th>\n",
       "      <td>6</td>\n",
       "      <td>Diabetes mellitus</td>\n",
       "      <td>2412.64</td>\n",
       "      <td>3.54</td>\n",
       "      <td>28.23</td>\n",
       "    </tr>\n",
       "    <tr>\n",
       "      <th>6</th>\n",
       "      <td>7</td>\n",
       "      <td>Cancer de tráquea, bronquios, pulmones</td>\n",
       "      <td>2018.52</td>\n",
       "      <td>2.96</td>\n",
       "      <td>23.62</td>\n",
       "    </tr>\n",
       "    <tr>\n",
       "      <th>7</th>\n",
       "      <td>8</td>\n",
       "      <td>Enfermedades del riñón</td>\n",
       "      <td>1626.13</td>\n",
       "      <td>2.39</td>\n",
       "      <td>19.03</td>\n",
       "    </tr>\n",
       "    <tr>\n",
       "      <th>8</th>\n",
       "      <td>9</td>\n",
       "      <td>Cirrosis hepática</td>\n",
       "      <td>1501.97</td>\n",
       "      <td>2.20</td>\n",
       "      <td>17.58</td>\n",
       "    </tr>\n",
       "    <tr>\n",
       "      <th>9</th>\n",
       "      <td>10</td>\n",
       "      <td>Heridas por accidentes</td>\n",
       "      <td>1498.65</td>\n",
       "      <td>2.20</td>\n",
       "      <td>17.54</td>\n",
       "    </tr>\n",
       "  </tbody>\n",
       "</table>\n",
       "</div>"
      ],
      "text/plain": [
       "   Rank                                      Cause  Deaths (000s)  % deaths  \\\n",
       "0     1           Enfermedad isquémica del corazón       11740.37     17.23   \n",
       "1     2                  Accidente cerebrovascular        7180.22     10.54   \n",
       "2     3    Enfermedad pulmonar obstructiva crónica        3864.15      5.67   \n",
       "3     4  Enfermedad de Alzheimer y otras demencias        3281.07      4.82   \n",
       "4     5    Infecciones respiratorias de vías bajas        3221.26      4.73   \n",
       "5     6                          Diabetes mellitus        2412.64      3.54   \n",
       "6     7     Cancer de tráquea, bronquios, pulmones        2018.52      2.96   \n",
       "7     8                     Enfermedades del riñón        1626.13      2.39   \n",
       "8     9                          Cirrosis hepática        1501.97      2.20   \n",
       "9    10                     Heridas por accidentes        1498.65      2.20   \n",
       "\n",
       "   Deaths per 100,000 population  \n",
       "0                         137.38  \n",
       "1                          84.02  \n",
       "2                          45.22  \n",
       "3                          38.39  \n",
       "4                          37.69  \n",
       "5                          28.23  \n",
       "6                          23.62  \n",
       "7                          19.03  \n",
       "8                          17.58  \n",
       "9                          17.54  "
      ]
     },
     "execution_count": 44,
     "metadata": {},
     "output_type": "execute_result"
    }
   ],
   "source": [
    "ghe_30['Cause']=ghe_30['Cause'].apply(causa_español)\n",
    "ghe_30"
   ]
  },
  {
   "cell_type": "code",
   "execution_count": 25,
   "metadata": {},
   "outputs": [],
   "source": [
    "ghe_16.drop('Deaths (000s)',axis=1,inplace=True)"
   ]
  },
  {
   "cell_type": "code",
   "execution_count": 45,
   "metadata": {},
   "outputs": [],
   "source": [
    "ghe_30.drop('Deaths (000s)',axis=1,inplace=True)"
   ]
  },
  {
   "cell_type": "code",
   "execution_count": 46,
   "metadata": {},
   "outputs": [],
   "source": [
    "ghe_30.rename(columns={\"Cause\": \"Cause2\", \"% deaths\": \"% deaths2\",\n",
    "                      'Deaths per 100,000 population':'Deaths per 100,000 population2'},\n",
    "              inplace=True)"
   ]
  },
  {
   "cell_type": "code",
   "execution_count": 47,
   "metadata": {},
   "outputs": [
    {
     "data": {
      "text/html": [
       "<div>\n",
       "<style scoped>\n",
       "    .dataframe tbody tr th:only-of-type {\n",
       "        vertical-align: middle;\n",
       "    }\n",
       "\n",
       "    .dataframe tbody tr th {\n",
       "        vertical-align: top;\n",
       "    }\n",
       "\n",
       "    .dataframe thead th {\n",
       "        text-align: right;\n",
       "    }\n",
       "</style>\n",
       "<table border=\"1\" class=\"dataframe\">\n",
       "  <thead>\n",
       "    <tr style=\"text-align: right;\">\n",
       "      <th></th>\n",
       "      <th>Cause</th>\n",
       "      <th>% deaths</th>\n",
       "      <th>Deaths per 100,000 population</th>\n",
       "      <th>Cause2</th>\n",
       "      <th>% deaths2</th>\n",
       "      <th>Deaths per 100,000 population2</th>\n",
       "    </tr>\n",
       "    <tr>\n",
       "      <th>Rank</th>\n",
       "      <th></th>\n",
       "      <th></th>\n",
       "      <th></th>\n",
       "      <th></th>\n",
       "      <th></th>\n",
       "      <th></th>\n",
       "    </tr>\n",
       "  </thead>\n",
       "  <tbody>\n",
       "    <tr>\n",
       "      <th>1</th>\n",
       "      <td>Enfermedad isquémica del corazón</td>\n",
       "      <td>16.59</td>\n",
       "      <td>126.41</td>\n",
       "      <td>Enfermedad isquémica del corazón</td>\n",
       "      <td>17.23</td>\n",
       "      <td>137.38</td>\n",
       "    </tr>\n",
       "    <tr>\n",
       "      <th>2</th>\n",
       "      <td>Accidente cerebrovascular</td>\n",
       "      <td>10.16</td>\n",
       "      <td>77.46</td>\n",
       "      <td>Accidente cerebrovascular</td>\n",
       "      <td>10.54</td>\n",
       "      <td>84.02</td>\n",
       "    </tr>\n",
       "    <tr>\n",
       "      <th>3</th>\n",
       "      <td>Enfermedad pulmonar obstructiva crónica</td>\n",
       "      <td>5.35</td>\n",
       "      <td>40.76</td>\n",
       "      <td>Enfermedad pulmonar obstructiva crónica</td>\n",
       "      <td>5.67</td>\n",
       "      <td>45.22</td>\n",
       "    </tr>\n",
       "    <tr>\n",
       "      <th>4</th>\n",
       "      <td>Infecciones respiratorias de vías bajas</td>\n",
       "      <td>5.20</td>\n",
       "      <td>39.63</td>\n",
       "      <td>Enfermedad de Alzheimer y otras demencias</td>\n",
       "      <td>4.82</td>\n",
       "      <td>38.39</td>\n",
       "    </tr>\n",
       "    <tr>\n",
       "      <th>5</th>\n",
       "      <td>Enfermedad de Alzheimer y otras demencias</td>\n",
       "      <td>3.50</td>\n",
       "      <td>26.69</td>\n",
       "      <td>Infecciones respiratorias de vías bajas</td>\n",
       "      <td>4.73</td>\n",
       "      <td>37.69</td>\n",
       "    </tr>\n",
       "  </tbody>\n",
       "</table>\n",
       "</div>"
      ],
      "text/plain": [
       "                                          Cause  % deaths  \\\n",
       "Rank                                                        \n",
       "1              Enfermedad isquémica del corazón     16.59   \n",
       "2                     Accidente cerebrovascular     10.16   \n",
       "3       Enfermedad pulmonar obstructiva crónica      5.35   \n",
       "4       Infecciones respiratorias de vías bajas      5.20   \n",
       "5     Enfermedad de Alzheimer y otras demencias      3.50   \n",
       "\n",
       "      Deaths per 100,000 population  \\\n",
       "Rank                                  \n",
       "1                            126.41   \n",
       "2                             77.46   \n",
       "3                             40.76   \n",
       "4                             39.63   \n",
       "5                             26.69   \n",
       "\n",
       "                                         Cause2  % deaths2  \\\n",
       "Rank                                                         \n",
       "1              Enfermedad isquémica del corazón      17.23   \n",
       "2                     Accidente cerebrovascular      10.54   \n",
       "3       Enfermedad pulmonar obstructiva crónica       5.67   \n",
       "4     Enfermedad de Alzheimer y otras demencias       4.82   \n",
       "5       Infecciones respiratorias de vías bajas       4.73   \n",
       "\n",
       "      Deaths per 100,000 population2  \n",
       "Rank                                  \n",
       "1                             137.38  \n",
       "2                              84.02  \n",
       "3                              45.22  \n",
       "4                              38.39  \n",
       "5                              37.69  "
      ]
     },
     "execution_count": 47,
     "metadata": {},
     "output_type": "execute_result"
    }
   ],
   "source": [
    "res=ghe_16.set_index('Rank').join(ghe_30.set_index('Rank'))\n",
    "res.head()"
   ]
  },
  {
   "cell_type": "code",
   "execution_count": 29,
   "metadata": {},
   "outputs": [],
   "source": [
    "import plotly\n",
    "import plotly.offline as py\n",
    "import plotly.graph_objs as go"
   ]
  },
  {
   "cell_type": "code",
   "execution_count": 30,
   "metadata": {},
   "outputs": [],
   "source": [
    "import plotly.express as px\n"
   ]
  },
  {
   "cell_type": "code",
   "execution_count": 65,
   "metadata": {},
   "outputs": [
    {
     "data": {
      "application/vnd.plotly.v1+json": {
       "config": {
        "plotlyServerURL": "https://plot.ly"
       },
       "data": [
        {
         "name": "Actual",
         "text": [
          "Enfermedad isquémica del corazón",
          "Accidente cerebrovascular",
          "Enfermedad pulmonar obstructiva crónica",
          "Infecciones respiratorias de vías bajas",
          "Enfermedad de Alzheimer y otras demencias",
          "Cancer de tráquea, bronquios, pulmones",
          "Diabetes mellitus",
          "Heridas por accidentes",
          "Diarrea",
          "Tuberculosis"
         ],
         "type": "bar",
         "x": [
          1,
          2,
          3,
          4,
          5,
          6,
          7,
          8,
          9,
          10
         ],
         "y": [
          16.59,
          10.16,
          5.35,
          5.2,
          3.5,
          3,
          2.81,
          2.47,
          2.43,
          2.27
         ]
        },
        {
         "name": "Proyecciones",
         "text": [
          "Enfermedad isquémica del corazón",
          "Accidente cerebrovascular",
          "Enfermedad pulmonar obstructiva crónica",
          "Enfermedad de Alzheimer y otras demencias",
          "Infecciones respiratorias de vías bajas",
          "Diabetes mellitus",
          "Cancer de tráquea, bronquios, pulmones",
          "Enfermedades del riñón",
          "Cirrosis hepática",
          "Heridas por accidentes"
         ],
         "type": "bar",
         "x": [
          1,
          2,
          3,
          4,
          5,
          6,
          7,
          8,
          9,
          10
         ],
         "y": [
          17.23,
          10.54,
          5.67,
          4.82,
          4.73,
          3.54,
          2.96,
          2.39,
          2.2,
          2.2
         ]
        }
       ],
       "layout": {
        "barmode": "group",
        "template": {
         "data": {
          "bar": [
           {
            "error_x": {
             "color": "#2a3f5f"
            },
            "error_y": {
             "color": "#2a3f5f"
            },
            "marker": {
             "line": {
              "color": "#E5ECF6",
              "width": 0.5
             }
            },
            "type": "bar"
           }
          ],
          "barpolar": [
           {
            "marker": {
             "line": {
              "color": "#E5ECF6",
              "width": 0.5
             }
            },
            "type": "barpolar"
           }
          ],
          "carpet": [
           {
            "aaxis": {
             "endlinecolor": "#2a3f5f",
             "gridcolor": "white",
             "linecolor": "white",
             "minorgridcolor": "white",
             "startlinecolor": "#2a3f5f"
            },
            "baxis": {
             "endlinecolor": "#2a3f5f",
             "gridcolor": "white",
             "linecolor": "white",
             "minorgridcolor": "white",
             "startlinecolor": "#2a3f5f"
            },
            "type": "carpet"
           }
          ],
          "choropleth": [
           {
            "colorbar": {
             "outlinewidth": 0,
             "ticks": ""
            },
            "type": "choropleth"
           }
          ],
          "contour": [
           {
            "colorbar": {
             "outlinewidth": 0,
             "ticks": ""
            },
            "colorscale": [
             [
              0,
              "#0d0887"
             ],
             [
              0.1111111111111111,
              "#46039f"
             ],
             [
              0.2222222222222222,
              "#7201a8"
             ],
             [
              0.3333333333333333,
              "#9c179e"
             ],
             [
              0.4444444444444444,
              "#bd3786"
             ],
             [
              0.5555555555555556,
              "#d8576b"
             ],
             [
              0.6666666666666666,
              "#ed7953"
             ],
             [
              0.7777777777777778,
              "#fb9f3a"
             ],
             [
              0.8888888888888888,
              "#fdca26"
             ],
             [
              1,
              "#f0f921"
             ]
            ],
            "type": "contour"
           }
          ],
          "contourcarpet": [
           {
            "colorbar": {
             "outlinewidth": 0,
             "ticks": ""
            },
            "type": "contourcarpet"
           }
          ],
          "heatmap": [
           {
            "colorbar": {
             "outlinewidth": 0,
             "ticks": ""
            },
            "colorscale": [
             [
              0,
              "#0d0887"
             ],
             [
              0.1111111111111111,
              "#46039f"
             ],
             [
              0.2222222222222222,
              "#7201a8"
             ],
             [
              0.3333333333333333,
              "#9c179e"
             ],
             [
              0.4444444444444444,
              "#bd3786"
             ],
             [
              0.5555555555555556,
              "#d8576b"
             ],
             [
              0.6666666666666666,
              "#ed7953"
             ],
             [
              0.7777777777777778,
              "#fb9f3a"
             ],
             [
              0.8888888888888888,
              "#fdca26"
             ],
             [
              1,
              "#f0f921"
             ]
            ],
            "type": "heatmap"
           }
          ],
          "heatmapgl": [
           {
            "colorbar": {
             "outlinewidth": 0,
             "ticks": ""
            },
            "colorscale": [
             [
              0,
              "#0d0887"
             ],
             [
              0.1111111111111111,
              "#46039f"
             ],
             [
              0.2222222222222222,
              "#7201a8"
             ],
             [
              0.3333333333333333,
              "#9c179e"
             ],
             [
              0.4444444444444444,
              "#bd3786"
             ],
             [
              0.5555555555555556,
              "#d8576b"
             ],
             [
              0.6666666666666666,
              "#ed7953"
             ],
             [
              0.7777777777777778,
              "#fb9f3a"
             ],
             [
              0.8888888888888888,
              "#fdca26"
             ],
             [
              1,
              "#f0f921"
             ]
            ],
            "type": "heatmapgl"
           }
          ],
          "histogram": [
           {
            "marker": {
             "colorbar": {
              "outlinewidth": 0,
              "ticks": ""
             }
            },
            "type": "histogram"
           }
          ],
          "histogram2d": [
           {
            "colorbar": {
             "outlinewidth": 0,
             "ticks": ""
            },
            "colorscale": [
             [
              0,
              "#0d0887"
             ],
             [
              0.1111111111111111,
              "#46039f"
             ],
             [
              0.2222222222222222,
              "#7201a8"
             ],
             [
              0.3333333333333333,
              "#9c179e"
             ],
             [
              0.4444444444444444,
              "#bd3786"
             ],
             [
              0.5555555555555556,
              "#d8576b"
             ],
             [
              0.6666666666666666,
              "#ed7953"
             ],
             [
              0.7777777777777778,
              "#fb9f3a"
             ],
             [
              0.8888888888888888,
              "#fdca26"
             ],
             [
              1,
              "#f0f921"
             ]
            ],
            "type": "histogram2d"
           }
          ],
          "histogram2dcontour": [
           {
            "colorbar": {
             "outlinewidth": 0,
             "ticks": ""
            },
            "colorscale": [
             [
              0,
              "#0d0887"
             ],
             [
              0.1111111111111111,
              "#46039f"
             ],
             [
              0.2222222222222222,
              "#7201a8"
             ],
             [
              0.3333333333333333,
              "#9c179e"
             ],
             [
              0.4444444444444444,
              "#bd3786"
             ],
             [
              0.5555555555555556,
              "#d8576b"
             ],
             [
              0.6666666666666666,
              "#ed7953"
             ],
             [
              0.7777777777777778,
              "#fb9f3a"
             ],
             [
              0.8888888888888888,
              "#fdca26"
             ],
             [
              1,
              "#f0f921"
             ]
            ],
            "type": "histogram2dcontour"
           }
          ],
          "mesh3d": [
           {
            "colorbar": {
             "outlinewidth": 0,
             "ticks": ""
            },
            "type": "mesh3d"
           }
          ],
          "parcoords": [
           {
            "line": {
             "colorbar": {
              "outlinewidth": 0,
              "ticks": ""
             }
            },
            "type": "parcoords"
           }
          ],
          "pie": [
           {
            "automargin": true,
            "type": "pie"
           }
          ],
          "scatter": [
           {
            "marker": {
             "colorbar": {
              "outlinewidth": 0,
              "ticks": ""
             }
            },
            "type": "scatter"
           }
          ],
          "scatter3d": [
           {
            "line": {
             "colorbar": {
              "outlinewidth": 0,
              "ticks": ""
             }
            },
            "marker": {
             "colorbar": {
              "outlinewidth": 0,
              "ticks": ""
             }
            },
            "type": "scatter3d"
           }
          ],
          "scattercarpet": [
           {
            "marker": {
             "colorbar": {
              "outlinewidth": 0,
              "ticks": ""
             }
            },
            "type": "scattercarpet"
           }
          ],
          "scattergeo": [
           {
            "marker": {
             "colorbar": {
              "outlinewidth": 0,
              "ticks": ""
             }
            },
            "type": "scattergeo"
           }
          ],
          "scattergl": [
           {
            "marker": {
             "colorbar": {
              "outlinewidth": 0,
              "ticks": ""
             }
            },
            "type": "scattergl"
           }
          ],
          "scattermapbox": [
           {
            "marker": {
             "colorbar": {
              "outlinewidth": 0,
              "ticks": ""
             }
            },
            "type": "scattermapbox"
           }
          ],
          "scatterpolar": [
           {
            "marker": {
             "colorbar": {
              "outlinewidth": 0,
              "ticks": ""
             }
            },
            "type": "scatterpolar"
           }
          ],
          "scatterpolargl": [
           {
            "marker": {
             "colorbar": {
              "outlinewidth": 0,
              "ticks": ""
             }
            },
            "type": "scatterpolargl"
           }
          ],
          "scatterternary": [
           {
            "marker": {
             "colorbar": {
              "outlinewidth": 0,
              "ticks": ""
             }
            },
            "type": "scatterternary"
           }
          ],
          "surface": [
           {
            "colorbar": {
             "outlinewidth": 0,
             "ticks": ""
            },
            "colorscale": [
             [
              0,
              "#0d0887"
             ],
             [
              0.1111111111111111,
              "#46039f"
             ],
             [
              0.2222222222222222,
              "#7201a8"
             ],
             [
              0.3333333333333333,
              "#9c179e"
             ],
             [
              0.4444444444444444,
              "#bd3786"
             ],
             [
              0.5555555555555556,
              "#d8576b"
             ],
             [
              0.6666666666666666,
              "#ed7953"
             ],
             [
              0.7777777777777778,
              "#fb9f3a"
             ],
             [
              0.8888888888888888,
              "#fdca26"
             ],
             [
              1,
              "#f0f921"
             ]
            ],
            "type": "surface"
           }
          ],
          "table": [
           {
            "cells": {
             "fill": {
              "color": "#EBF0F8"
             },
             "line": {
              "color": "white"
             }
            },
            "header": {
             "fill": {
              "color": "#C8D4E3"
             },
             "line": {
              "color": "white"
             }
            },
            "type": "table"
           }
          ]
         },
         "layout": {
          "annotationdefaults": {
           "arrowcolor": "#2a3f5f",
           "arrowhead": 0,
           "arrowwidth": 1
          },
          "coloraxis": {
           "colorbar": {
            "outlinewidth": 0,
            "ticks": ""
           }
          },
          "colorscale": {
           "diverging": [
            [
             0,
             "#8e0152"
            ],
            [
             0.1,
             "#c51b7d"
            ],
            [
             0.2,
             "#de77ae"
            ],
            [
             0.3,
             "#f1b6da"
            ],
            [
             0.4,
             "#fde0ef"
            ],
            [
             0.5,
             "#f7f7f7"
            ],
            [
             0.6,
             "#e6f5d0"
            ],
            [
             0.7,
             "#b8e186"
            ],
            [
             0.8,
             "#7fbc41"
            ],
            [
             0.9,
             "#4d9221"
            ],
            [
             1,
             "#276419"
            ]
           ],
           "sequential": [
            [
             0,
             "#0d0887"
            ],
            [
             0.1111111111111111,
             "#46039f"
            ],
            [
             0.2222222222222222,
             "#7201a8"
            ],
            [
             0.3333333333333333,
             "#9c179e"
            ],
            [
             0.4444444444444444,
             "#bd3786"
            ],
            [
             0.5555555555555556,
             "#d8576b"
            ],
            [
             0.6666666666666666,
             "#ed7953"
            ],
            [
             0.7777777777777778,
             "#fb9f3a"
            ],
            [
             0.8888888888888888,
             "#fdca26"
            ],
            [
             1,
             "#f0f921"
            ]
           ],
           "sequentialminus": [
            [
             0,
             "#0d0887"
            ],
            [
             0.1111111111111111,
             "#46039f"
            ],
            [
             0.2222222222222222,
             "#7201a8"
            ],
            [
             0.3333333333333333,
             "#9c179e"
            ],
            [
             0.4444444444444444,
             "#bd3786"
            ],
            [
             0.5555555555555556,
             "#d8576b"
            ],
            [
             0.6666666666666666,
             "#ed7953"
            ],
            [
             0.7777777777777778,
             "#fb9f3a"
            ],
            [
             0.8888888888888888,
             "#fdca26"
            ],
            [
             1,
             "#f0f921"
            ]
           ]
          },
          "colorway": [
           "#636efa",
           "#EF553B",
           "#00cc96",
           "#ab63fa",
           "#FFA15A",
           "#19d3f3",
           "#FF6692",
           "#B6E880",
           "#FF97FF",
           "#FECB52"
          ],
          "font": {
           "color": "#2a3f5f"
          },
          "geo": {
           "bgcolor": "white",
           "lakecolor": "white",
           "landcolor": "#E5ECF6",
           "showlakes": true,
           "showland": true,
           "subunitcolor": "white"
          },
          "hoverlabel": {
           "align": "left"
          },
          "hovermode": "closest",
          "mapbox": {
           "style": "light"
          },
          "paper_bgcolor": "white",
          "plot_bgcolor": "#E5ECF6",
          "polar": {
           "angularaxis": {
            "gridcolor": "white",
            "linecolor": "white",
            "ticks": ""
           },
           "bgcolor": "#E5ECF6",
           "radialaxis": {
            "gridcolor": "white",
            "linecolor": "white",
            "ticks": ""
           }
          },
          "scene": {
           "xaxis": {
            "backgroundcolor": "#E5ECF6",
            "gridcolor": "white",
            "gridwidth": 2,
            "linecolor": "white",
            "showbackground": true,
            "ticks": "",
            "zerolinecolor": "white"
           },
           "yaxis": {
            "backgroundcolor": "#E5ECF6",
            "gridcolor": "white",
            "gridwidth": 2,
            "linecolor": "white",
            "showbackground": true,
            "ticks": "",
            "zerolinecolor": "white"
           },
           "zaxis": {
            "backgroundcolor": "#E5ECF6",
            "gridcolor": "white",
            "gridwidth": 2,
            "linecolor": "white",
            "showbackground": true,
            "ticks": "",
            "zerolinecolor": "white"
           }
          },
          "shapedefaults": {
           "line": {
            "color": "#2a3f5f"
           }
          },
          "ternary": {
           "aaxis": {
            "gridcolor": "white",
            "linecolor": "white",
            "ticks": ""
           },
           "baxis": {
            "gridcolor": "white",
            "linecolor": "white",
            "ticks": ""
           },
           "bgcolor": "#E5ECF6",
           "caxis": {
            "gridcolor": "white",
            "linecolor": "white",
            "ticks": ""
           }
          },
          "title": {
           "x": 0.05
          },
          "xaxis": {
           "automargin": true,
           "gridcolor": "white",
           "linecolor": "white",
           "ticks": "",
           "title": {
            "standoff": 15
           },
           "zerolinecolor": "white",
           "zerolinewidth": 2
          },
          "yaxis": {
           "automargin": true,
           "gridcolor": "white",
           "linecolor": "white",
           "ticks": "",
           "title": {
            "standoff": 15
           },
           "zerolinecolor": "white",
           "zerolinewidth": 2
          }
         }
        }
       }
      },
      "text/html": [
       "<div>\n",
       "        \n",
       "        \n",
       "            <div id=\"265168d8-4054-4835-9523-214488d3c3f3\" class=\"plotly-graph-div\" style=\"height:525px; width:100%;\"></div>\n",
       "            <script type=\"text/javascript\">\n",
       "                require([\"plotly\"], function(Plotly) {\n",
       "                    window.PLOTLYENV=window.PLOTLYENV || {};\n",
       "                    \n",
       "                if (document.getElementById(\"265168d8-4054-4835-9523-214488d3c3f3\")) {\n",
       "                    Plotly.newPlot(\n",
       "                        '265168d8-4054-4835-9523-214488d3c3f3',\n",
       "                        [{\"name\": \"Actual\", \"text\": [\"Enfermedad isqu\\u00e9mica del coraz\\u00f3n\", \"Accidente cerebrovascular\", \"Enfermedad pulmonar obstructiva cr\\u00f3nica\", \"Infecciones respiratorias de v\\u00edas bajas\", \"Enfermedad de Alzheimer y otras demencias\", \"Cancer de tr\\u00e1quea, bronquios, pulmones\", \"Diabetes mellitus\", \"Heridas por accidentes\", \"Diarrea\", \"Tuberculosis\"], \"type\": \"bar\", \"x\": [1, 2, 3, 4, 5, 6, 7, 8, 9, 10], \"y\": [16.59, 10.16, 5.35, 5.2, 3.5, 3.0, 2.81, 2.47, 2.43, 2.27]}, {\"name\": \"Proyecciones\", \"text\": [\"Enfermedad isqu\\u00e9mica del coraz\\u00f3n\", \"Accidente cerebrovascular\", \"Enfermedad pulmonar obstructiva cr\\u00f3nica\", \"Enfermedad de Alzheimer y otras demencias\", \"Infecciones respiratorias de v\\u00edas bajas\", \"Diabetes mellitus\", \"Cancer de tr\\u00e1quea, bronquios, pulmones\", \"Enfermedades del ri\\u00f1\\u00f3n\", \"Cirrosis hep\\u00e1tica\", \"Heridas por accidentes\"], \"type\": \"bar\", \"x\": [1, 2, 3, 4, 5, 6, 7, 8, 9, 10], \"y\": [17.23, 10.54, 5.67, 4.82, 4.73, 3.54, 2.96, 2.39, 2.2, 2.2]}],\n",
       "                        {\"barmode\": \"group\", \"template\": {\"data\": {\"bar\": [{\"error_x\": {\"color\": \"#2a3f5f\"}, \"error_y\": {\"color\": \"#2a3f5f\"}, \"marker\": {\"line\": {\"color\": \"#E5ECF6\", \"width\": 0.5}}, \"type\": \"bar\"}], \"barpolar\": [{\"marker\": {\"line\": {\"color\": \"#E5ECF6\", \"width\": 0.5}}, \"type\": \"barpolar\"}], \"carpet\": [{\"aaxis\": {\"endlinecolor\": \"#2a3f5f\", \"gridcolor\": \"white\", \"linecolor\": \"white\", \"minorgridcolor\": \"white\", \"startlinecolor\": \"#2a3f5f\"}, \"baxis\": {\"endlinecolor\": \"#2a3f5f\", \"gridcolor\": \"white\", \"linecolor\": \"white\", \"minorgridcolor\": \"white\", \"startlinecolor\": \"#2a3f5f\"}, \"type\": \"carpet\"}], \"choropleth\": [{\"colorbar\": {\"outlinewidth\": 0, \"ticks\": \"\"}, \"type\": \"choropleth\"}], \"contour\": [{\"colorbar\": {\"outlinewidth\": 0, \"ticks\": \"\"}, \"colorscale\": [[0.0, \"#0d0887\"], [0.1111111111111111, \"#46039f\"], [0.2222222222222222, \"#7201a8\"], [0.3333333333333333, \"#9c179e\"], [0.4444444444444444, \"#bd3786\"], [0.5555555555555556, \"#d8576b\"], [0.6666666666666666, \"#ed7953\"], [0.7777777777777778, \"#fb9f3a\"], [0.8888888888888888, \"#fdca26\"], [1.0, \"#f0f921\"]], \"type\": \"contour\"}], \"contourcarpet\": [{\"colorbar\": {\"outlinewidth\": 0, \"ticks\": \"\"}, \"type\": \"contourcarpet\"}], \"heatmap\": [{\"colorbar\": {\"outlinewidth\": 0, \"ticks\": \"\"}, \"colorscale\": [[0.0, \"#0d0887\"], [0.1111111111111111, \"#46039f\"], [0.2222222222222222, \"#7201a8\"], [0.3333333333333333, \"#9c179e\"], [0.4444444444444444, \"#bd3786\"], [0.5555555555555556, \"#d8576b\"], [0.6666666666666666, \"#ed7953\"], [0.7777777777777778, \"#fb9f3a\"], [0.8888888888888888, \"#fdca26\"], [1.0, \"#f0f921\"]], \"type\": \"heatmap\"}], \"heatmapgl\": [{\"colorbar\": {\"outlinewidth\": 0, \"ticks\": \"\"}, \"colorscale\": [[0.0, \"#0d0887\"], [0.1111111111111111, \"#46039f\"], [0.2222222222222222, \"#7201a8\"], [0.3333333333333333, \"#9c179e\"], [0.4444444444444444, \"#bd3786\"], [0.5555555555555556, \"#d8576b\"], [0.6666666666666666, \"#ed7953\"], [0.7777777777777778, \"#fb9f3a\"], [0.8888888888888888, \"#fdca26\"], [1.0, \"#f0f921\"]], \"type\": \"heatmapgl\"}], \"histogram\": [{\"marker\": {\"colorbar\": {\"outlinewidth\": 0, \"ticks\": \"\"}}, \"type\": \"histogram\"}], \"histogram2d\": [{\"colorbar\": {\"outlinewidth\": 0, \"ticks\": \"\"}, \"colorscale\": [[0.0, \"#0d0887\"], [0.1111111111111111, \"#46039f\"], [0.2222222222222222, \"#7201a8\"], [0.3333333333333333, \"#9c179e\"], [0.4444444444444444, \"#bd3786\"], [0.5555555555555556, \"#d8576b\"], [0.6666666666666666, \"#ed7953\"], [0.7777777777777778, \"#fb9f3a\"], [0.8888888888888888, \"#fdca26\"], [1.0, \"#f0f921\"]], \"type\": \"histogram2d\"}], \"histogram2dcontour\": [{\"colorbar\": {\"outlinewidth\": 0, \"ticks\": \"\"}, \"colorscale\": [[0.0, \"#0d0887\"], [0.1111111111111111, \"#46039f\"], [0.2222222222222222, \"#7201a8\"], [0.3333333333333333, \"#9c179e\"], [0.4444444444444444, \"#bd3786\"], [0.5555555555555556, \"#d8576b\"], [0.6666666666666666, \"#ed7953\"], [0.7777777777777778, \"#fb9f3a\"], [0.8888888888888888, \"#fdca26\"], [1.0, \"#f0f921\"]], \"type\": \"histogram2dcontour\"}], \"mesh3d\": [{\"colorbar\": {\"outlinewidth\": 0, \"ticks\": \"\"}, \"type\": \"mesh3d\"}], \"parcoords\": [{\"line\": {\"colorbar\": {\"outlinewidth\": 0, \"ticks\": \"\"}}, \"type\": \"parcoords\"}], \"pie\": [{\"automargin\": true, \"type\": \"pie\"}], \"scatter\": [{\"marker\": {\"colorbar\": {\"outlinewidth\": 0, \"ticks\": \"\"}}, \"type\": \"scatter\"}], \"scatter3d\": [{\"line\": {\"colorbar\": {\"outlinewidth\": 0, \"ticks\": \"\"}}, \"marker\": {\"colorbar\": {\"outlinewidth\": 0, \"ticks\": \"\"}}, \"type\": \"scatter3d\"}], \"scattercarpet\": [{\"marker\": {\"colorbar\": {\"outlinewidth\": 0, \"ticks\": \"\"}}, \"type\": \"scattercarpet\"}], \"scattergeo\": [{\"marker\": {\"colorbar\": {\"outlinewidth\": 0, \"ticks\": \"\"}}, \"type\": \"scattergeo\"}], \"scattergl\": [{\"marker\": {\"colorbar\": {\"outlinewidth\": 0, \"ticks\": \"\"}}, \"type\": \"scattergl\"}], \"scattermapbox\": [{\"marker\": {\"colorbar\": {\"outlinewidth\": 0, \"ticks\": \"\"}}, \"type\": \"scattermapbox\"}], \"scatterpolar\": [{\"marker\": {\"colorbar\": {\"outlinewidth\": 0, \"ticks\": \"\"}}, \"type\": \"scatterpolar\"}], \"scatterpolargl\": [{\"marker\": {\"colorbar\": {\"outlinewidth\": 0, \"ticks\": \"\"}}, \"type\": \"scatterpolargl\"}], \"scatterternary\": [{\"marker\": {\"colorbar\": {\"outlinewidth\": 0, \"ticks\": \"\"}}, \"type\": \"scatterternary\"}], \"surface\": [{\"colorbar\": {\"outlinewidth\": 0, \"ticks\": \"\"}, \"colorscale\": [[0.0, \"#0d0887\"], [0.1111111111111111, \"#46039f\"], [0.2222222222222222, \"#7201a8\"], [0.3333333333333333, \"#9c179e\"], [0.4444444444444444, \"#bd3786\"], [0.5555555555555556, \"#d8576b\"], [0.6666666666666666, \"#ed7953\"], [0.7777777777777778, \"#fb9f3a\"], [0.8888888888888888, \"#fdca26\"], [1.0, \"#f0f921\"]], \"type\": \"surface\"}], \"table\": [{\"cells\": {\"fill\": {\"color\": \"#EBF0F8\"}, \"line\": {\"color\": \"white\"}}, \"header\": {\"fill\": {\"color\": \"#C8D4E3\"}, \"line\": {\"color\": \"white\"}}, \"type\": \"table\"}]}, \"layout\": {\"annotationdefaults\": {\"arrowcolor\": \"#2a3f5f\", \"arrowhead\": 0, \"arrowwidth\": 1}, \"coloraxis\": {\"colorbar\": {\"outlinewidth\": 0, \"ticks\": \"\"}}, \"colorscale\": {\"diverging\": [[0, \"#8e0152\"], [0.1, \"#c51b7d\"], [0.2, \"#de77ae\"], [0.3, \"#f1b6da\"], [0.4, \"#fde0ef\"], [0.5, \"#f7f7f7\"], [0.6, \"#e6f5d0\"], [0.7, \"#b8e186\"], [0.8, \"#7fbc41\"], [0.9, \"#4d9221\"], [1, \"#276419\"]], \"sequential\": [[0.0, \"#0d0887\"], [0.1111111111111111, \"#46039f\"], [0.2222222222222222, \"#7201a8\"], [0.3333333333333333, \"#9c179e\"], [0.4444444444444444, \"#bd3786\"], [0.5555555555555556, \"#d8576b\"], [0.6666666666666666, \"#ed7953\"], [0.7777777777777778, \"#fb9f3a\"], [0.8888888888888888, \"#fdca26\"], [1.0, \"#f0f921\"]], \"sequentialminus\": [[0.0, \"#0d0887\"], [0.1111111111111111, \"#46039f\"], [0.2222222222222222, \"#7201a8\"], [0.3333333333333333, \"#9c179e\"], [0.4444444444444444, \"#bd3786\"], [0.5555555555555556, \"#d8576b\"], [0.6666666666666666, \"#ed7953\"], [0.7777777777777778, \"#fb9f3a\"], [0.8888888888888888, \"#fdca26\"], [1.0, \"#f0f921\"]]}, \"colorway\": [\"#636efa\", \"#EF553B\", \"#00cc96\", \"#ab63fa\", \"#FFA15A\", \"#19d3f3\", \"#FF6692\", \"#B6E880\", \"#FF97FF\", \"#FECB52\"], \"font\": {\"color\": \"#2a3f5f\"}, \"geo\": {\"bgcolor\": \"white\", \"lakecolor\": \"white\", \"landcolor\": \"#E5ECF6\", \"showlakes\": true, \"showland\": true, \"subunitcolor\": \"white\"}, \"hoverlabel\": {\"align\": \"left\"}, \"hovermode\": \"closest\", \"mapbox\": {\"style\": \"light\"}, \"paper_bgcolor\": \"white\", \"plot_bgcolor\": \"#E5ECF6\", \"polar\": {\"angularaxis\": {\"gridcolor\": \"white\", \"linecolor\": \"white\", \"ticks\": \"\"}, \"bgcolor\": \"#E5ECF6\", \"radialaxis\": {\"gridcolor\": \"white\", \"linecolor\": \"white\", \"ticks\": \"\"}}, \"scene\": {\"xaxis\": {\"backgroundcolor\": \"#E5ECF6\", \"gridcolor\": \"white\", \"gridwidth\": 2, \"linecolor\": \"white\", \"showbackground\": true, \"ticks\": \"\", \"zerolinecolor\": \"white\"}, \"yaxis\": {\"backgroundcolor\": \"#E5ECF6\", \"gridcolor\": \"white\", \"gridwidth\": 2, \"linecolor\": \"white\", \"showbackground\": true, \"ticks\": \"\", \"zerolinecolor\": \"white\"}, \"zaxis\": {\"backgroundcolor\": \"#E5ECF6\", \"gridcolor\": \"white\", \"gridwidth\": 2, \"linecolor\": \"white\", \"showbackground\": true, \"ticks\": \"\", \"zerolinecolor\": \"white\"}}, \"shapedefaults\": {\"line\": {\"color\": \"#2a3f5f\"}}, \"ternary\": {\"aaxis\": {\"gridcolor\": \"white\", \"linecolor\": \"white\", \"ticks\": \"\"}, \"baxis\": {\"gridcolor\": \"white\", \"linecolor\": \"white\", \"ticks\": \"\"}, \"bgcolor\": \"#E5ECF6\", \"caxis\": {\"gridcolor\": \"white\", \"linecolor\": \"white\", \"ticks\": \"\"}}, \"title\": {\"x\": 0.05}, \"xaxis\": {\"automargin\": true, \"gridcolor\": \"white\", \"linecolor\": \"white\", \"ticks\": \"\", \"title\": {\"standoff\": 15}, \"zerolinecolor\": \"white\", \"zerolinewidth\": 2}, \"yaxis\": {\"automargin\": true, \"gridcolor\": \"white\", \"linecolor\": \"white\", \"ticks\": \"\", \"title\": {\"standoff\": 15}, \"zerolinecolor\": \"white\", \"zerolinewidth\": 2}}}},\n",
       "                        {\"responsive\": true}\n",
       "                    ).then(function(){\n",
       "                            \n",
       "var gd = document.getElementById('265168d8-4054-4835-9523-214488d3c3f3');\n",
       "var x = new MutationObserver(function (mutations, observer) {{\n",
       "        var display = window.getComputedStyle(gd).display;\n",
       "        if (!display || display === 'none') {{\n",
       "            console.log([gd, 'removed!']);\n",
       "            Plotly.purge(gd);\n",
       "            observer.disconnect();\n",
       "        }}\n",
       "}});\n",
       "\n",
       "// Listen for the removal of the full notebook cells\n",
       "var notebookContainer = gd.closest('#notebook-container');\n",
       "if (notebookContainer) {{\n",
       "    x.observe(notebookContainer, {childList: true});\n",
       "}}\n",
       "\n",
       "// Listen for the clearing of the current output cell\n",
       "var outputEl = gd.closest('.output');\n",
       "if (outputEl) {{\n",
       "    x.observe(outputEl, {childList: true});\n",
       "}}\n",
       "\n",
       "                        })\n",
       "                };\n",
       "                });\n",
       "            </script>\n",
       "        </div>"
      ]
     },
     "metadata": {},
     "output_type": "display_data"
    },
    {
     "data": {
      "text/plain": [
       "'Images/WHO1630.html'"
      ]
     },
     "execution_count": 65,
     "metadata": {},
     "output_type": "execute_result"
    }
   ],
   "source": [
    "fig = go.Figure(data=[\n",
    "    go.Bar(name='Actual', x=res.index,y=res['% deaths'],text=res['Cause']),\n",
    "    go.Bar(name='Proyecciones', x=res.index, y=res['% deaths2'],text=res['Cause2'])\n",
    "])\n",
    "# Change the bar mode\n",
    "fig.update_layout(barmode='group')\n",
    "fig.show()\n",
    "plotly.offline.plot(fig, filename = 'Images/WHO1630.html', auto_open=False)"
   ]
  },
  {
   "cell_type": "code",
   "execution_count": 4,
   "metadata": {},
   "outputs": [
    {
     "data": {
      "text/html": [
       "<div>\n",
       "<style scoped>\n",
       "    .dataframe tbody tr th:only-of-type {\n",
       "        vertical-align: middle;\n",
       "    }\n",
       "\n",
       "    .dataframe tbody tr th {\n",
       "        vertical-align: top;\n",
       "    }\n",
       "\n",
       "    .dataframe thead th {\n",
       "        text-align: right;\n",
       "    }\n",
       "</style>\n",
       "<table border=\"1\" class=\"dataframe\">\n",
       "  <thead>\n",
       "    <tr style=\"text-align: right;\">\n",
       "      <th></th>\n",
       "      <th>Unnamed: 0</th>\n",
       "      <th>Unnamed: 1</th>\n",
       "      <th>Unnamed: 2</th>\n",
       "      <th>Number of deaths attributed to non-communicable diseases, by type of disease and sex</th>\n",
       "      <th>Number of deaths attributed to non-communicable diseases, by type of disease and sex.1</th>\n",
       "      <th>Number of deaths attributed to non-communicable diseases, by type of disease and sex.2</th>\n",
       "    </tr>\n",
       "  </thead>\n",
       "  <tbody>\n",
       "    <tr>\n",
       "      <th>0</th>\n",
       "      <td>Country</td>\n",
       "      <td>Year</td>\n",
       "      <td>Causes</td>\n",
       "      <td>Both sexes</td>\n",
       "      <td>Male</td>\n",
       "      <td>Female</td>\n",
       "    </tr>\n",
       "    <tr>\n",
       "      <th>1</th>\n",
       "      <td>Mexico</td>\n",
       "      <td>2016</td>\n",
       "      <td>Malignant neoplasms</td>\n",
       "      <td>80054</td>\n",
       "      <td>39130</td>\n",
       "      <td>40924</td>\n",
       "    </tr>\n",
       "    <tr>\n",
       "      <th>2</th>\n",
       "      <td>Mexico</td>\n",
       "      <td>2016</td>\n",
       "      <td>Diabetes mellitus</td>\n",
       "      <td>99623</td>\n",
       "      <td>48674</td>\n",
       "      <td>50949</td>\n",
       "    </tr>\n",
       "    <tr>\n",
       "      <th>3</th>\n",
       "      <td>Mexico</td>\n",
       "      <td>2016</td>\n",
       "      <td>Cardiovascular diseases</td>\n",
       "      <td>159256</td>\n",
       "      <td>83248</td>\n",
       "      <td>76009</td>\n",
       "    </tr>\n",
       "    <tr>\n",
       "      <th>4</th>\n",
       "      <td>Mexico</td>\n",
       "      <td>2016</td>\n",
       "      <td>Chronic obstructive pulmonary disease</td>\n",
       "      <td>36494</td>\n",
       "      <td>19373</td>\n",
       "      <td>17121</td>\n",
       "    </tr>\n",
       "  </tbody>\n",
       "</table>\n",
       "</div>"
      ],
      "text/plain": [
       "  Unnamed: 0 Unnamed: 1                             Unnamed: 2  \\\n",
       "0    Country       Year                                 Causes   \n",
       "1     Mexico       2016                    Malignant neoplasms   \n",
       "2     Mexico       2016                      Diabetes mellitus   \n",
       "3     Mexico       2016                Cardiovascular diseases   \n",
       "4     Mexico       2016  Chronic obstructive pulmonary disease   \n",
       "\n",
       "  Number of deaths attributed to non-communicable diseases, by type of disease and sex  \\\n",
       "0                                         Both sexes                                     \n",
       "1                                              80054                                     \n",
       "2                                              99623                                     \n",
       "3                                             159256                                     \n",
       "4                                              36494                                     \n",
       "\n",
       "  Number of deaths attributed to non-communicable diseases, by type of disease and sex.1  \\\n",
       "0                                               Male                                       \n",
       "1                                              39130                                       \n",
       "2                                              48674                                       \n",
       "3                                              83248                                       \n",
       "4                                              19373                                       \n",
       "\n",
       "  Number of deaths attributed to non-communicable diseases, by type of disease and sex.2  \n",
       "0                                             Female                                      \n",
       "1                                              40924                                      \n",
       "2                                              50949                                      \n",
       "3                                              76009                                      \n",
       "4                                              17121                                      "
      ]
     },
     "execution_count": 4,
     "metadata": {},
     "output_type": "execute_result"
    }
   ],
   "source": [
    "df = pd.read_csv('Datos/data (1).csv')\n",
    "df.head()"
   ]
  },
  {
   "cell_type": "code",
   "execution_count": 5,
   "metadata": {},
   "outputs": [
    {
     "data": {
      "text/html": [
       "<div>\n",
       "<style scoped>\n",
       "    .dataframe tbody tr th:only-of-type {\n",
       "        vertical-align: middle;\n",
       "    }\n",
       "\n",
       "    .dataframe tbody tr th {\n",
       "        vertical-align: top;\n",
       "    }\n",
       "\n",
       "    .dataframe thead th {\n",
       "        text-align: right;\n",
       "    }\n",
       "</style>\n",
       "<table border=\"1\" class=\"dataframe\">\n",
       "  <thead>\n",
       "    <tr style=\"text-align: right;\">\n",
       "      <th></th>\n",
       "      <th>Country</th>\n",
       "      <th>Year</th>\n",
       "      <th>Causes</th>\n",
       "      <th>Both sexes</th>\n",
       "      <th>Male</th>\n",
       "      <th>Female</th>\n",
       "    </tr>\n",
       "  </thead>\n",
       "  <tbody>\n",
       "    <tr>\n",
       "      <th>0</th>\n",
       "      <td>Country</td>\n",
       "      <td>Year</td>\n",
       "      <td>Causes</td>\n",
       "      <td>Both sexes</td>\n",
       "      <td>Male</td>\n",
       "      <td>Female</td>\n",
       "    </tr>\n",
       "    <tr>\n",
       "      <th>1</th>\n",
       "      <td>Mexico</td>\n",
       "      <td>2016</td>\n",
       "      <td>Malignant neoplasms</td>\n",
       "      <td>80054</td>\n",
       "      <td>39130</td>\n",
       "      <td>40924</td>\n",
       "    </tr>\n",
       "    <tr>\n",
       "      <th>2</th>\n",
       "      <td>Mexico</td>\n",
       "      <td>2016</td>\n",
       "      <td>Diabetes mellitus</td>\n",
       "      <td>99623</td>\n",
       "      <td>48674</td>\n",
       "      <td>50949</td>\n",
       "    </tr>\n",
       "    <tr>\n",
       "      <th>3</th>\n",
       "      <td>Mexico</td>\n",
       "      <td>2016</td>\n",
       "      <td>Cardiovascular diseases</td>\n",
       "      <td>159256</td>\n",
       "      <td>83248</td>\n",
       "      <td>76009</td>\n",
       "    </tr>\n",
       "    <tr>\n",
       "      <th>4</th>\n",
       "      <td>Mexico</td>\n",
       "      <td>2016</td>\n",
       "      <td>Chronic obstructive pulmonary disease</td>\n",
       "      <td>36494</td>\n",
       "      <td>19373</td>\n",
       "      <td>17121</td>\n",
       "    </tr>\n",
       "  </tbody>\n",
       "</table>\n",
       "</div>"
      ],
      "text/plain": [
       "   Country  Year                                 Causes  Both sexes   Male  \\\n",
       "0  Country  Year                                 Causes  Both sexes   Male   \n",
       "1   Mexico  2016                    Malignant neoplasms       80054  39130   \n",
       "2   Mexico  2016                      Diabetes mellitus       99623  48674   \n",
       "3   Mexico  2016                Cardiovascular diseases      159256  83248   \n",
       "4   Mexico  2016  Chronic obstructive pulmonary disease       36494  19373   \n",
       "\n",
       "   Female  \n",
       "0  Female  \n",
       "1   40924  \n",
       "2   50949  \n",
       "3   76009  \n",
       "4   17121  "
      ]
     },
     "execution_count": 5,
     "metadata": {},
     "output_type": "execute_result"
    }
   ],
   "source": [
    "df.columns=['Country','Year','Causes','Both sexes','Male','Female']\n",
    "df.head()"
   ]
  },
  {
   "cell_type": "code",
   "execution_count": 6,
   "metadata": {},
   "outputs": [],
   "source": [
    "df.drop(0,inplace=True)"
   ]
  },
  {
   "cell_type": "code",
   "execution_count": 7,
   "metadata": {},
   "outputs": [
    {
     "data": {
      "text/html": [
       "<div>\n",
       "<style scoped>\n",
       "    .dataframe tbody tr th:only-of-type {\n",
       "        vertical-align: middle;\n",
       "    }\n",
       "\n",
       "    .dataframe tbody tr th {\n",
       "        vertical-align: top;\n",
       "    }\n",
       "\n",
       "    .dataframe thead th {\n",
       "        text-align: right;\n",
       "    }\n",
       "</style>\n",
       "<table border=\"1\" class=\"dataframe\">\n",
       "  <thead>\n",
       "    <tr style=\"text-align: right;\">\n",
       "      <th></th>\n",
       "      <th>Year</th>\n",
       "      <th>Causes</th>\n",
       "      <th>Both sexes</th>\n",
       "      <th>Male</th>\n",
       "      <th>Female</th>\n",
       "    </tr>\n",
       "  </thead>\n",
       "  <tbody>\n",
       "    <tr>\n",
       "      <th>1</th>\n",
       "      <td>2016</td>\n",
       "      <td>Malignant neoplasms</td>\n",
       "      <td>80054</td>\n",
       "      <td>39130</td>\n",
       "      <td>40924</td>\n",
       "    </tr>\n",
       "    <tr>\n",
       "      <th>2</th>\n",
       "      <td>2016</td>\n",
       "      <td>Diabetes mellitus</td>\n",
       "      <td>99623</td>\n",
       "      <td>48674</td>\n",
       "      <td>50949</td>\n",
       "    </tr>\n",
       "    <tr>\n",
       "      <th>3</th>\n",
       "      <td>2016</td>\n",
       "      <td>Cardiovascular diseases</td>\n",
       "      <td>159256</td>\n",
       "      <td>83248</td>\n",
       "      <td>76009</td>\n",
       "    </tr>\n",
       "    <tr>\n",
       "      <th>4</th>\n",
       "      <td>2016</td>\n",
       "      <td>Chronic obstructive pulmonary disease</td>\n",
       "      <td>36494</td>\n",
       "      <td>19373</td>\n",
       "      <td>17121</td>\n",
       "    </tr>\n",
       "    <tr>\n",
       "      <th>5</th>\n",
       "      <td>2015</td>\n",
       "      <td>Malignant neoplasms</td>\n",
       "      <td>79230</td>\n",
       "      <td>38788</td>\n",
       "      <td>40442</td>\n",
       "    </tr>\n",
       "  </tbody>\n",
       "</table>\n",
       "</div>"
      ],
      "text/plain": [
       "   Year                                 Causes Both sexes   Male Female\n",
       "1  2016                    Malignant neoplasms      80054  39130  40924\n",
       "2  2016                      Diabetes mellitus      99623  48674  50949\n",
       "3  2016                Cardiovascular diseases     159256  83248  76009\n",
       "4  2016  Chronic obstructive pulmonary disease      36494  19373  17121\n",
       "5  2015                    Malignant neoplasms      79230  38788  40442"
      ]
     },
     "execution_count": 7,
     "metadata": {},
     "output_type": "execute_result"
    }
   ],
   "source": [
    "df.drop('Country',axis=1,inplace=True)\n",
    "df.head()"
   ]
  },
  {
   "cell_type": "code",
   "execution_count": 8,
   "metadata": {},
   "outputs": [],
   "source": [
    "def numero(x):\n",
    "    return int(x)"
   ]
  },
  {
   "cell_type": "code",
   "execution_count": 9,
   "metadata": {},
   "outputs": [],
   "source": [
    "df['Both sexes']=df['Both sexes'].apply(numero)\n",
    "df['Male']=df['Male'].apply(numero)\n",
    "df['Female']=df['Female'].apply(numero)"
   ]
  },
  {
   "cell_type": "code",
   "execution_count": 10,
   "metadata": {},
   "outputs": [
    {
     "name": "stdout",
     "output_type": "stream",
     "text": [
      "<class 'pandas.core.frame.DataFrame'>\n",
      "Int64Index: 20 entries, 1 to 20\n",
      "Data columns (total 5 columns):\n",
      " #   Column      Non-Null Count  Dtype \n",
      "---  ------      --------------  ----- \n",
      " 0   Year        20 non-null     object\n",
      " 1   Causes      20 non-null     object\n",
      " 2   Both sexes  20 non-null     int64 \n",
      " 3   Male        20 non-null     int64 \n",
      " 4   Female      20 non-null     int64 \n",
      "dtypes: int64(3), object(2)\n",
      "memory usage: 960.0+ bytes\n"
     ]
    }
   ],
   "source": [
    "df.info()"
   ]
  },
  {
   "cell_type": "code",
   "execution_count": 11,
   "metadata": {},
   "outputs": [
    {
     "data": {
      "text/html": [
       "<div>\n",
       "<style scoped>\n",
       "    .dataframe tbody tr th:only-of-type {\n",
       "        vertical-align: middle;\n",
       "    }\n",
       "\n",
       "    .dataframe tbody tr th {\n",
       "        vertical-align: top;\n",
       "    }\n",
       "\n",
       "    .dataframe thead th {\n",
       "        text-align: right;\n",
       "    }\n",
       "</style>\n",
       "<table border=\"1\" class=\"dataframe\">\n",
       "  <thead>\n",
       "    <tr style=\"text-align: right;\">\n",
       "      <th></th>\n",
       "      <th>Year</th>\n",
       "      <th>Causes</th>\n",
       "      <th>Both sexes</th>\n",
       "      <th>Male</th>\n",
       "      <th>Female</th>\n",
       "    </tr>\n",
       "  </thead>\n",
       "  <tbody>\n",
       "    <tr>\n",
       "      <th>1</th>\n",
       "      <td>2016</td>\n",
       "      <td>Malignant neoplasms</td>\n",
       "      <td>80054</td>\n",
       "      <td>39130</td>\n",
       "      <td>40924</td>\n",
       "    </tr>\n",
       "    <tr>\n",
       "      <th>2</th>\n",
       "      <td>2016</td>\n",
       "      <td>Diabetes mellitus</td>\n",
       "      <td>99623</td>\n",
       "      <td>48674</td>\n",
       "      <td>50949</td>\n",
       "    </tr>\n",
       "    <tr>\n",
       "      <th>3</th>\n",
       "      <td>2016</td>\n",
       "      <td>Cardiovascular diseases</td>\n",
       "      <td>159256</td>\n",
       "      <td>83248</td>\n",
       "      <td>76009</td>\n",
       "    </tr>\n",
       "    <tr>\n",
       "      <th>4</th>\n",
       "      <td>2016</td>\n",
       "      <td>Chronic obstructive pulmonary disease</td>\n",
       "      <td>36494</td>\n",
       "      <td>19373</td>\n",
       "      <td>17121</td>\n",
       "    </tr>\n",
       "  </tbody>\n",
       "</table>\n",
       "</div>"
      ],
      "text/plain": [
       "   Year                                 Causes  Both sexes   Male  Female\n",
       "1  2016                    Malignant neoplasms       80054  39130   40924\n",
       "2  2016                      Diabetes mellitus       99623  48674   50949\n",
       "3  2016                Cardiovascular diseases      159256  83248   76009\n",
       "4  2016  Chronic obstructive pulmonary disease       36494  19373   17121"
      ]
     },
     "execution_count": 11,
     "metadata": {},
     "output_type": "execute_result"
    }
   ],
   "source": [
    "aux1=df[df['Year']=='2016']\n",
    "aux1"
   ]
  },
  {
   "cell_type": "code",
   "execution_count": 12,
   "metadata": {},
   "outputs": [],
   "source": [
    "def trad(x):\n",
    "    dic={'Malignant neoplasms':'Neoplasias Malignas','Cardiovascular diseases':'Enfermedades cardiovasculares',\n",
    "        'Chronic obstructive pulmonary disease':'Enfermedad pulmonar obstructiva crónica'}\n",
    "    if x in dic:\n",
    "        return dic[x]\n",
    "    else:\n",
    "        return x"
   ]
  },
  {
   "cell_type": "code",
   "execution_count": 13,
   "metadata": {},
   "outputs": [],
   "source": [
    "aux1['Causes']=aux1['Causes'].apply(trad)"
   ]
  },
  {
   "cell_type": "code",
   "execution_count": 15,
   "metadata": {},
   "outputs": [
    {
     "data": {
      "image/png": "[encoded data removed]",
      "text/plain": [
       "<Figure size 648x648 with 1 Axes>"
      ]
     },
     "metadata": {},
     "output_type": "display_data"
    }
   ],
   "source": [
    "fig, ax = plt.subplots(figsize=(9, 9))\n",
    "\n",
    "data = aux1['Male']\n",
    "causas = aux1['Causes']\n",
    "explode = (0, 0, 0.1, 0)\n",
    "\n",
    "def func(pct, allvals):\n",
    "    absolute = int(pct/100.*np.sum(allvals))\n",
    "    return \"{:.1f}%\\n({:d})\".format(pct, absolute)\n",
    "\n",
    "wedges, texts, autotexts = ax.pie(data,explode=explode,autopct=lambda pct: func(pct, data),\n",
    "                                  textprops=dict(color=\"w\"))\n",
    "ax.legend(wedges, causas,\n",
    "          title=\"Causas\",\n",
    "          loc=\"center\",\n",
    "          bbox_to_anchor=(1, 0, 0.5, 1),prop={'size': 13})\n",
    "\n",
    "ax.text(1.5, 0.01, 'Fuente: Organización Mundial de la Salud',\n",
    "        verticalalignment='bottom', horizontalalignment='right',\n",
    "        transform=ax.transAxes,\n",
    "        color='gray', fontsize=11)\n",
    "\n",
    "plt.setp(autotexts, size=16)\n",
    "\n",
    "ax.set_title(\"Defunciones de hombres a causa de enfermedades crónicas\",size=20,weight='bold')\n",
    "\n",
    "plt.savefig('Images/H_oms.jpg',bbox_inches='tight')"
   ]
  },
  {
   "cell_type": "code",
   "execution_count": 16,
   "metadata": {},
   "outputs": [
    {
     "data": {
      "image/png": "[encoded data removed]",
      "text/plain": [
       "<Figure size 648x648 with 1 Axes>"
      ]
     },
     "metadata": {},
     "output_type": "display_data"
    }
   ],
   "source": [
    "fig, ax = plt.subplots(figsize=(9, 9))\n",
    "\n",
    "data = aux1['Female']\n",
    "causas = aux1['Causes']\n",
    "explode = (0, 0, 0.1, 0)\n",
    "\n",
    "def func(pct, allvals):\n",
    "    absolute = int(pct/100.*np.sum(allvals))\n",
    "    return \"{:.1f}%\\n({:d})\".format(pct, absolute)\n",
    "\n",
    "wedges, texts, autotexts = ax.pie(data, explode=explode,autopct=lambda pct: func(pct, data),\n",
    "                                  textprops=dict(color=\"w\"))\n",
    "ax.legend(wedges, causas,\n",
    "          title=\"Causas\",\n",
    "          loc=\"center\",\n",
    "          bbox_to_anchor=(1, 0, 0.5, 1),prop={'size': 13},shadow=True)\n",
    "\n",
    "ax.text(1.5, 0.01, 'Fuente: Organización Mundial de la Salud',\n",
    "        verticalalignment='bottom', horizontalalignment='right',\n",
    "        transform=ax.transAxes,\n",
    "        color='gray', fontsize=11)\n",
    "\n",
    "plt.setp(autotexts, size=16)\n",
    "\n",
    "ax.set_title(\"Defunciones de mujeres a causa de enfermedades crónicas\",size=20,weight='bold')\n",
    "\n",
    "plt.savefig('Images/F_oms.jpg',bbox_inches='tight')"
   ]
  },
  {
   "cell_type": "code",
   "execution_count": null,
   "metadata": {},
   "outputs": [],
   "source": []
  }
 ],
 "metadata": {
  "kernelspec": {
   "display_name": "Python 3",
   "language": "python",
   "name": "python3"
  },
  "language_info": {
   "codemirror_mode": {
    "name": "ipython",
    "version": 3
   },
   "file_extension": ".py",
   "mimetype": "text/x-python",
   "name": "python",
   "nbconvert_exporter": "python",
   "pygments_lexer": "ipython3",
   "version": "3.7.6"
  }
 },
 "nbformat": 4,
 "nbformat_minor": 2
}
