{
 "cells": [
  {
   "cell_type": "code",
   "execution_count": 39,
   "metadata": {},
   "outputs": [],
   "source": [
    "import numpy as np"
   ]
  },
  {
   "cell_type": "code",
   "execution_count": 89,
   "metadata": {},
   "outputs": [
    {
     "name": "stdout",
     "output_type": "stream",
     "text": [
      "Ingrese los datos solicitados\n",
      "1.Ingrese su edad: \n",
      "34\n",
      "2.Ingrese su altura en cm: \n",
      "160\n",
      "3.Ingrese su peso en kg: \n",
      "90\n",
      "4.Ingrese su género [H/M]: \n",
      "h\n",
      "4.Presión sistólica: \n",
      "135\n",
      "5.Presión diástolica: \n",
      "80\n",
      "6.Nivel de colesterol: \n",
      "200\n",
      "7.Nivel de glucosa: \n",
      "110\n",
      "9.¿Fuma? [S/N]: \n",
      "s\n",
      "10.¿Consume alcohol? [S/N]: \n",
      "n\n",
      "11.¿Se ejercita cotidianamente? [S/N]: \n",
      "n\n"
     ]
    }
   ],
   "source": [
    "#Obtener datos del usuario:\n",
    "print('Ingrese los datos solicitados')\n",
    "print('1.Ingrese su edad: ')\n",
    "edad=int(input())\n",
    "print('2.Ingrese su altura en cm: ')\n",
    "altura=int(input())\n",
    "print('3.Ingrese su peso en kg: ')\n",
    "peso=int(input())\n",
    "print('4.Ingrese su género [H/M]: ')\n",
    "gen=input()\n",
    "print('4.Presión sistólica: ')\n",
    "ps=int(input())\n",
    "print('5.Presión diástolica: ')\n",
    "pd=int(input())\n",
    "print('6.Nivel de colesterol: ')\n",
    "col=int(input())\n",
    "print('7.Nivel de glucosa: ')\n",
    "gluc=int(input())\n",
    "print('9.¿Fuma? [S/N]: ')\n",
    "fum=input()\n",
    "print('10.¿Consume alcohol? [S/N]: ')\n",
    "alco=input()\n",
    "print('11.¿Se ejercita cotidianamente? [S/N]: ')\n",
    "ejer=input()"
   ]
  },
  {
   "cell_type": "code",
   "execution_count": 43,
   "metadata": {},
   "outputs": [],
   "source": [
    "def prueba_col(colest):\n",
    "    if colest<200:\n",
    "        return 1\n",
    "    elif colest>=200 and colest<240:\n",
    "        return 2\n",
    "    else:\n",
    "        return 3"
   ]
  },
  {
   "cell_type": "code",
   "execution_count": 70,
   "metadata": {},
   "outputs": [
    {
     "data": {
      "text/plain": [
       "1"
      ]
     },
     "execution_count": 70,
     "metadata": {},
     "output_type": "execute_result"
    }
   ],
   "source": [
    "col_fin=prueba_col(col)\n",
    "col_fin"
   ]
  },
  {
   "cell_type": "code",
   "execution_count": 49,
   "metadata": {},
   "outputs": [],
   "source": [
    "def prueba_glucosa(gluc):\n",
    "    if gluc<110:\n",
    "        return 1\n",
    "    elif gluc>=110 and gluc<130:\n",
    "        return 2\n",
    "    else:\n",
    "        return 3"
   ]
  },
  {
   "cell_type": "code",
   "execution_count": 71,
   "metadata": {},
   "outputs": [
    {
     "data": {
      "text/plain": [
       "2"
      ]
     },
     "execution_count": 71,
     "metadata": {},
     "output_type": "execute_result"
    }
   ],
   "source": [
    "glu_fin=prueba_glucosa(gluc)\n",
    "glu_fin"
   ]
  },
  {
   "cell_type": "code",
   "execution_count": 56,
   "metadata": {},
   "outputs": [],
   "source": [
    "def tabaco(f):\n",
    "    if f=='s' or f=='S':\n",
    "        return 1\n",
    "    else:\n",
    "        return 0"
   ]
  },
  {
   "cell_type": "code",
   "execution_count": 72,
   "metadata": {},
   "outputs": [
    {
     "data": {
      "text/plain": [
       "1"
      ]
     },
     "execution_count": 72,
     "metadata": {},
     "output_type": "execute_result"
    }
   ],
   "source": [
    "tab_fin=tabaco(fum)\n",
    "tab_fin"
   ]
  },
  {
   "cell_type": "code",
   "execution_count": 62,
   "metadata": {},
   "outputs": [],
   "source": [
    "def ejerc(f):\n",
    "    if f=='s' or f=='S':\n",
    "        return 1\n",
    "    else:\n",
    "        return 0"
   ]
  },
  {
   "cell_type": "code",
   "execution_count": 82,
   "metadata": {},
   "outputs": [],
   "source": [
    "ejer_fin=ejerc(ejer)"
   ]
  },
  {
   "cell_type": "code",
   "execution_count": 78,
   "metadata": {},
   "outputs": [],
   "source": [
    "def alcoh(f):\n",
    "    if f=='s' or f=='S':\n",
    "        return 1\n",
    "    else:\n",
    "        return 0"
   ]
  },
  {
   "cell_type": "code",
   "execution_count": 80,
   "metadata": {},
   "outputs": [],
   "source": [
    "alco_fin=alcoh(alco)"
   ]
  },
  {
   "cell_type": "code",
   "execution_count": 90,
   "metadata": {},
   "outputs": [],
   "source": [
    "def genero(f):\n",
    "    if f=='M' or f=='m':\n",
    "        return 2\n",
    "    else:\n",
    "        return 1"
   ]
  },
  {
   "cell_type": "code",
   "execution_count": 92,
   "metadata": {},
   "outputs": [],
   "source": [
    "gen_final=genero(gen)"
   ]
  },
  {
   "cell_type": "code",
   "execution_count": 66,
   "metadata": {},
   "outputs": [],
   "source": [
    "def IMC(alt,pes):\n",
    "    return round((pes*10000)/(alt**2),2)"
   ]
  },
  {
   "cell_type": "code",
   "execution_count": 73,
   "metadata": {},
   "outputs": [
    {
     "data": {
      "text/plain": [
       "27.55"
      ]
     },
     "execution_count": 73,
     "metadata": {},
     "output_type": "execute_result"
    }
   ],
   "source": [
    "IMC(altura,peso)"
   ]
  },
  {
   "cell_type": "code",
   "execution_count": 83,
   "metadata": {},
   "outputs": [],
   "source": [
    "imc_fin=IMC(altura,peso)"
   ]
  },
  {
   "cell_type": "code",
   "execution_count": 108,
   "metadata": {},
   "outputs": [],
   "source": [
    "prueba_cardio=[[edad,gen_final,altura,peso,ps,pd,col_fin,glu_fin,\n",
    "                tab_fin,alco_fin,ejer_fin,imc_fin]]"
   ]
  },
  {
   "cell_type": "code",
   "execution_count": 109,
   "metadata": {},
   "outputs": [
    {
     "data": {
      "text/plain": [
       "[[34, 1, 160, 90, 135, 80, 1, 2, 1, 0, 0, 27.55]]"
      ]
     },
     "execution_count": 109,
     "metadata": {},
     "output_type": "execute_result"
    }
   ],
   "source": [
    "prueba_cardio"
   ]
  },
  {
   "cell_type": "code",
   "execution_count": 95,
   "metadata": {},
   "outputs": [],
   "source": [
    "import pickle"
   ]
  },
  {
   "cell_type": "code",
   "execution_count": 96,
   "metadata": {},
   "outputs": [],
   "source": [
    "modelo = pickle.load(open('Datos/modelo_svc.sav', 'rb'))"
   ]
  },
  {
   "cell_type": "code",
   "execution_count": 110,
   "metadata": {},
   "outputs": [
    {
     "data": {
      "text/plain": [
       "array([0])"
      ]
     },
     "execution_count": 110,
     "metadata": {},
     "output_type": "execute_result"
    }
   ],
   "source": [
    "modelo.predict(prueba_cardio)"
   ]
  },
  {
   "cell_type": "code",
   "execution_count": 122,
   "metadata": {},
   "outputs": [],
   "source": [
    "prueba_cardio2=[[75,1,168,90,110,80,2,3,1,0,1,31.97]]"
   ]
  },
  {
   "cell_type": "code",
   "execution_count": 123,
   "metadata": {},
   "outputs": [
    {
     "data": {
      "text/plain": [
       "array([1])"
      ]
     },
     "execution_count": 123,
     "metadata": {},
     "output_type": "execute_result"
    }
   ],
   "source": [
    "modelo.predict(prueba_cardio2)"
   ]
  },
  {
   "cell_type": "code",
   "execution_count": null,
   "metadata": {},
   "outputs": [],
   "source": []
  }
 ],
 "metadata": {
  "kernelspec": {
   "display_name": "Python 3",
   "language": "python",
   "name": "python3"
  },
  "language_info": {
   "codemirror_mode": {
    "name": "ipython",
    "version": 3
   },
   "file_extension": ".py",
   "mimetype": "text/x-python",
   "name": "python",
   "nbconvert_exporter": "python",
   "pygments_lexer": "ipython3",
   "version": "3.7.6"
  }
 },
 "nbformat": 4,
 "nbformat_minor": 4
}
